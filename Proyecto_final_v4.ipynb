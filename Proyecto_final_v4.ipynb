{
 "cells": [
  {
   "cell_type": "code",
   "execution_count": 1,
   "metadata": {},
   "outputs": [],
   "source": [
    "import numpy as np\n",
    "import pandas as pd\n",
    "import matplotlib.pyplot as plt\n",
    "import seaborn as sns"
   ]
  },
  {
   "cell_type": "markdown",
   "metadata": {},
   "source": [
    "## Carga de la data"
   ]
  },
  {
   "cell_type": "code",
   "execution_count": 209,
   "metadata": {},
   "outputs": [
    {
     "data": {
      "text/html": [
       "<div>\n",
       "<style scoped>\n",
       "    .dataframe tbody tr th:only-of-type {\n",
       "        vertical-align: middle;\n",
       "    }\n",
       "\n",
       "    .dataframe tbody tr th {\n",
       "        vertical-align: top;\n",
       "    }\n",
       "\n",
       "    .dataframe thead th {\n",
       "        text-align: right;\n",
       "    }\n",
       "</style>\n",
       "<table border=\"1\" class=\"dataframe\">\n",
       "  <thead>\n",
       "    <tr style=\"text-align: right;\">\n",
       "      <th></th>\n",
       "      <th>SalesPrice</th>\n",
       "      <th>OverallQual</th>\n",
       "      <th>lstFirSF</th>\n",
       "      <th>TotRmsAbvGrd</th>\n",
       "      <th>YearBuilt</th>\n",
       "      <th>LotFrontage</th>\n",
       "    </tr>\n",
       "  </thead>\n",
       "  <tbody>\n",
       "    <tr>\n",
       "      <th>0</th>\n",
       "      <td>208500.0</td>\n",
       "      <td>7.0</td>\n",
       "      <td>856.0</td>\n",
       "      <td>8.0</td>\n",
       "      <td>2003.0</td>\n",
       "      <td>65.0</td>\n",
       "    </tr>\n",
       "    <tr>\n",
       "      <th>1</th>\n",
       "      <td>181500.0</td>\n",
       "      <td>6.0</td>\n",
       "      <td>1262.0</td>\n",
       "      <td>6.0</td>\n",
       "      <td>1976.0</td>\n",
       "      <td>80.0</td>\n",
       "    </tr>\n",
       "    <tr>\n",
       "      <th>2</th>\n",
       "      <td>223500.0</td>\n",
       "      <td>7.0</td>\n",
       "      <td>920.0</td>\n",
       "      <td>6.0</td>\n",
       "      <td>2001.0</td>\n",
       "      <td>68.0</td>\n",
       "    </tr>\n",
       "    <tr>\n",
       "      <th>3</th>\n",
       "      <td>140000.0</td>\n",
       "      <td>7.0</td>\n",
       "      <td>961.0</td>\n",
       "      <td>7.0</td>\n",
       "      <td>1915.0</td>\n",
       "      <td>60.0</td>\n",
       "    </tr>\n",
       "    <tr>\n",
       "      <th>4</th>\n",
       "      <td>250000.0</td>\n",
       "      <td>8.0</td>\n",
       "      <td>1145.0</td>\n",
       "      <td>9.0</td>\n",
       "      <td>2000.0</td>\n",
       "      <td>84.0</td>\n",
       "    </tr>\n",
       "    <tr>\n",
       "      <th>...</th>\n",
       "      <td>...</td>\n",
       "      <td>...</td>\n",
       "      <td>...</td>\n",
       "      <td>...</td>\n",
       "      <td>...</td>\n",
       "      <td>...</td>\n",
       "    </tr>\n",
       "    <tr>\n",
       "      <th>1455</th>\n",
       "      <td>175000.0</td>\n",
       "      <td>6.0</td>\n",
       "      <td>953.0</td>\n",
       "      <td>7.0</td>\n",
       "      <td>1999.0</td>\n",
       "      <td>62.0</td>\n",
       "    </tr>\n",
       "    <tr>\n",
       "      <th>1456</th>\n",
       "      <td>210000.0</td>\n",
       "      <td>6.0</td>\n",
       "      <td>2073.0</td>\n",
       "      <td>7.0</td>\n",
       "      <td>1978.0</td>\n",
       "      <td>85.0</td>\n",
       "    </tr>\n",
       "    <tr>\n",
       "      <th>1457</th>\n",
       "      <td>266500.0</td>\n",
       "      <td>7.0</td>\n",
       "      <td>1188.0</td>\n",
       "      <td>9.0</td>\n",
       "      <td>1941.0</td>\n",
       "      <td>66.0</td>\n",
       "    </tr>\n",
       "    <tr>\n",
       "      <th>1458</th>\n",
       "      <td>142125.0</td>\n",
       "      <td>5.0</td>\n",
       "      <td>1078.0</td>\n",
       "      <td>5.0</td>\n",
       "      <td>1950.0</td>\n",
       "      <td>68.0</td>\n",
       "    </tr>\n",
       "    <tr>\n",
       "      <th>1459</th>\n",
       "      <td>147500.0</td>\n",
       "      <td>5.0</td>\n",
       "      <td>1256.0</td>\n",
       "      <td>6.0</td>\n",
       "      <td>1965.0</td>\n",
       "      <td>75.0</td>\n",
       "    </tr>\n",
       "  </tbody>\n",
       "</table>\n",
       "<p>1460 rows × 6 columns</p>\n",
       "</div>"
      ],
      "text/plain": [
       "      SalesPrice  OverallQual  lstFirSF  TotRmsAbvGrd  YearBuilt  LotFrontage\n",
       "0       208500.0          7.0     856.0           8.0     2003.0         65.0\n",
       "1       181500.0          6.0    1262.0           6.0     1976.0         80.0\n",
       "2       223500.0          7.0     920.0           6.0     2001.0         68.0\n",
       "3       140000.0          7.0     961.0           7.0     1915.0         60.0\n",
       "4       250000.0          8.0    1145.0           9.0     2000.0         84.0\n",
       "...          ...          ...       ...           ...        ...          ...\n",
       "1455    175000.0          6.0     953.0           7.0     1999.0         62.0\n",
       "1456    210000.0          6.0    2073.0           7.0     1978.0         85.0\n",
       "1457    266500.0          7.0    1188.0           9.0     1941.0         66.0\n",
       "1458    142125.0          5.0    1078.0           5.0     1950.0         68.0\n",
       "1459    147500.0          5.0    1256.0           6.0     1965.0         75.0\n",
       "\n",
       "[1460 rows x 6 columns]"
      ]
     },
     "execution_count": 209,
     "metadata": {},
     "output_type": "execute_result"
    }
   ],
   "source": [
    "data = np.load('proyecto_training_data.npy').astype('float32')\n",
    "dataset = pd.DataFrame(data, columns = ['SalesPrice','OverallQual','lstFirSF','TotRmsAbvGrd','YearBuilt','LotFrontage'])\n",
    "dataset"
   ]
  },
  {
   "cell_type": "code",
   "execution_count": 210,
   "metadata": {},
   "outputs": [
    {
     "data": {
      "text/plain": [
       "numpy.float32"
      ]
     },
     "execution_count": 210,
     "metadata": {},
     "output_type": "execute_result"
    }
   ],
   "source": [
    "type(dataset.loc[0, 'lstFirSF'])"
   ]
  },
  {
   "cell_type": "markdown",
   "metadata": {},
   "source": [
    "## Generación del modelo por gradientes"
   ]
  },
  {
   "cell_type": "markdown",
   "metadata": {},
   "source": [
    "### Split de Sets Train y Test"
   ]
  },
  {
   "cell_type": "code",
   "execution_count": 211,
   "metadata": {},
   "outputs": [],
   "source": [
    "# Variables X y Y para Prueba de la función\n",
    "x = dataset['OverallQual'].values.reshape(-1, 1)\n",
    "y = dataset['SalesPrice'].values.reshape(-1, 1)"
   ]
  },
  {
   "cell_type": "code",
   "execution_count": 212,
   "metadata": {},
   "outputs": [],
   "source": [
    "import random\n",
    "split = 0.8\n",
    "nTrain = int(len(x)*split)\n",
    "Indices = list(range(0, len(x)))\n",
    "random.seed(123)\n",
    "random.shuffle(Indices)\n",
    "TrainSet_x = x[Indices[0 : nTrain]]\n",
    "TestSet_x = x[Indices[nTrain : len(Indices)]]\n",
    "TrainSet_y = y[Indices[0 : nTrain]]\n",
    "TestSet_y = y[Indices[nTrain : len(Indices)]]"
   ]
  },
  {
   "cell_type": "markdown",
   "metadata": {},
   "source": [
    "### Creación de la función"
   ]
  },
  {
   "cell_type": "code",
   "execution_count": 191,
   "metadata": {},
   "outputs": [],
   "source": [
    "def GradDesc(X, Y, epoch, imprimir_error_cada, learning_rate):\n",
    "    #parametros internos\n",
    "    b0 = 0\n",
    "    b1 = 0\n",
    "    betas = np.array([b1,b0]) \n",
    "    n = len(X)\n",
    "    \n",
    "    #arrays iniciales\n",
    "    errorArray = np.array([])\n",
    "    betasArray = ([betas])\n",
    "    \n",
    "    #creacion de matriz con unos\n",
    "    vect1 = np.ones_like(X)\n",
    "    matriz = np.hstack([X, vect1])\n",
    "    \n",
    "    np.seterr(invalid='ignore')\n",
    "    \n",
    "    #loop\n",
    "    for i in range(epoch):\n",
    "        \n",
    "        yhat = np.dot(matriz, betas).reshape(-1,1)\n",
    "        \n",
    "        error = np.sum(np.power(Y - yhat, 2))/(2*n)\n",
    "        errorArray = np.append(errorArray, error)\n",
    "        \n",
    "        grads = np.sum((yhat-Y)*matriz,axis=0)*(1/n)\n",
    "        \n",
    "        betas = betas - learning_rate*grads\n",
    "        betasArray = np.vstack([betasArray, betas])\n",
    "        \n",
    "        if (i+1) % imprimir_error_cada == 0:\n",
    "            print('------------------------')\n",
    "            print('iteracion {}'.format(i+1))\n",
    "            print('error {}'.format(error))\n",
    "            print('modelo b0: {}, b1: {}'.format(betas[1], betas[0]))\n",
    "        else:\n",
    "            pass\n",
    "    return {'error': error, 'errorArray': errorArray, 'betas': betas, 'betasArray': betasArray}"
   ]
  },
  {
   "cell_type": "code",
   "execution_count": 213,
   "metadata": {},
   "outputs": [
    {
     "name": "stdout",
     "output_type": "stream",
     "text": [
      "------------------------\n",
      "iteracion 10000\n",
      "error 1155517839.1261802\n",
      "modelo b0: -97263.14357587117, b1: 45507.19329085135\n",
      "------------------------\n",
      "iteracion 20000\n",
      "error 1155498259.9263356\n",
      "modelo b0: -98153.09036901817, b1: 45645.66279870509\n",
      "------------------------\n",
      "iteracion 30000\n",
      "error 1155498258.4322772\n",
      "modelo b0: -98160.86447275669, b1: 45646.87239497193\n",
      "------------------------\n",
      "iteracion 40000\n",
      "error 1155498258.4321632\n",
      "modelo b0: -98160.93238320871, b1: 45646.88296136414\n",
      "------------------------\n",
      "iteracion 50000\n",
      "error 1155498258.4321632\n",
      "modelo b0: -98160.93297643853, b1: 45646.88305366656\n"
     ]
    }
   ],
   "source": [
    "X = TrainSet_x\n",
    "Y = TrainSet_y\n",
    "\n",
    "Modelo = GradDesc(X, Y, 50000, 10000, 0.01)"
   ]
  },
  {
   "cell_type": "code",
   "execution_count": 214,
   "metadata": {},
   "outputs": [
    {
     "data": {
      "text/plain": [
       "1155498258.4321632"
      ]
     },
     "execution_count": 214,
     "metadata": {},
     "output_type": "execute_result"
    }
   ],
   "source": [
    "Modelo['error']"
   ]
  },
  {
   "cell_type": "markdown",
   "metadata": {},
   "source": [
    "### Función para graficar error"
   ]
  },
  {
   "cell_type": "code",
   "execution_count": 45,
   "metadata": {},
   "outputs": [],
   "source": [
    "def GrafError(errorArray, color, marker):\n",
    "    iteraciones = np.arange(1, len(errorArray)+1, 1)\n",
    "    plt.plot(iteraciones, errorArray, color=color, marker=marker)\n",
    "    plt.xlabel('iteraciones')\n",
    "    plt.ylabel('error')"
   ]
  },
  {
   "cell_type": "code",
   "execution_count": 215,
   "metadata": {},
   "outputs": [
    {
     "data": {
      "image/png": "[encoded data removed]",
      "text/plain": [
       "<Figure size 432x288 with 1 Axes>"
      ]
     },
     "metadata": {
      "needs_background": "light"
     },
     "output_type": "display_data"
    }
   ],
   "source": [
    "Arreglo_errores = Modelo['errorArray']\n",
    "color = '#00cc00'\n",
    "marcador = '*'\n",
    "\n",
    "GrafError(Arreglo_errores, color, marcador)"
   ]
  },
  {
   "cell_type": "markdown",
   "metadata": {},
   "source": [
    "### Función para graficar la evolución del modelo"
   ]
  },
  {
   "cell_type": "code",
   "execution_count": 47,
   "metadata": {},
   "outputs": [],
   "source": [
    "def GrafEvolucion(X, n_grafica, epoch, betasArray):\n",
    "    # Diccionario vacio para añadir las predicciones\n",
    "    predDict = {}\n",
    "\n",
    "    # Creacion de matriz de X para vectorizacion\n",
    "    vect1 = np.ones_like(X)\n",
    "    matriz = np.hstack([X, vect1])\n",
    "\n",
    "    for i in range(n_grafica, epoch+1, n_grafica):\n",
    "        y_pred_temp = np.dot(matriz, betasArray[i]).reshape(-1,1)\n",
    "        predDict['iteracion {}'.format(i)] = y_pred_temp\n",
    "\n",
    "    for k, v in predDict.items():\n",
    "        plt.plot(X, v, '.-', label=k)\n",
    "    plt.show()"
   ]
  },
  {
   "cell_type": "code",
   "execution_count": 217,
   "metadata": {},
   "outputs": [
    {
     "data": {
      "image/png": "[encoded data removed]",
      "text/plain": [
       "<Figure size 432x288 with 1 Axes>"
      ]
     },
     "metadata": {
      "needs_background": "light"
     },
     "output_type": "display_data"
    }
   ],
   "source": [
    "Arreglo_betas = Modelo['betasArray']\n",
    "\n",
    "GrafEvolucion(X, 1000, 50000, Arreglo_betas)"
   ]
  },
  {
   "cell_type": "markdown",
   "metadata": {},
   "source": [
    "## Entrenamiento de Modelos"
   ]
  },
  {
   "cell_type": "markdown",
   "metadata": {},
   "source": [
    "### Modelo 1 - SalesPrice - OverallQual"
   ]
  },
  {
   "cell_type": "code",
   "execution_count": 236,
   "metadata": {},
   "outputs": [],
   "source": [
    "x1 = dataset['OverallQual'].values.reshape(-1, 1)\n",
    "y1 = dataset['SalesPrice'].values.reshape(-1, 1)\n",
    "\n",
    "split = 0.8\n",
    "nTrain = int(len(x1)*split)\n",
    "Indices = list(range(0, len(x1)))\n",
    "random.seed(123)\n",
    "random.shuffle(Indices)\n",
    "TrainSet_x1 = x1[Indices[0 : nTrain]]\n",
    "TestSet_x1 = x1[Indices[nTrain : len(Indices)]]\n",
    "TrainSet_y1 = y1[Indices[0 : nTrain]]\n",
    "TestSet_y1 = y1[Indices[nTrain : len(Indices)]]"
   ]
  },
  {
   "cell_type": "code",
   "execution_count": 219,
   "metadata": {},
   "outputs": [
    {
     "name": "stdout",
     "output_type": "stream",
     "text": [
      "------------------------\n",
      "iteracion 10000\n",
      "error 1155517839.1261802\n",
      "modelo b0: -97263.14357587117, b1: 45507.19329085135\n",
      "------------------------\n",
      "iteracion 20000\n",
      "error 1155498259.9263356\n",
      "modelo b0: -98153.09036901817, b1: 45645.66279870509\n",
      "------------------------\n",
      "iteracion 30000\n",
      "error 1155498258.4322772\n",
      "modelo b0: -98160.86447275669, b1: 45646.87239497193\n",
      "------------------------\n",
      "iteracion 40000\n",
      "error 1155498258.4321632\n",
      "modelo b0: -98160.93238320871, b1: 45646.88296136414\n",
      "------------------------\n",
      "iteracion 50000\n",
      "error 1155498258.4321632\n",
      "modelo b0: -98160.93297643853, b1: 45646.88305366656\n"
     ]
    }
   ],
   "source": [
    "X1 = TrainSet_x1\n",
    "Y1 = TrainSet_y1\n",
    "\n",
    "Modelo1 = GradDesc(X1, Y1, 50000, 10000, 0.01)"
   ]
  },
  {
   "cell_type": "code",
   "execution_count": 220,
   "metadata": {},
   "outputs": [
    {
     "data": {
      "image/png": "[encoded data removed]",
      "text/plain": [
       "<Figure size 432x288 with 1 Axes>"
      ]
     },
     "metadata": {
      "needs_background": "light"
     },
     "output_type": "display_data"
    }
   ],
   "source": [
    "Arreglo_errores = Modelo1['errorArray']\n",
    "color = '#00cc00'\n",
    "marcador = '*'\n",
    "\n",
    "GrafError(Arreglo_errores, color, marcador)"
   ]
  },
  {
   "cell_type": "code",
   "execution_count": 221,
   "metadata": {},
   "outputs": [
    {
     "data": {
      "image/png": "[encoded data removed]",
      "text/plain": [
       "<Figure size 432x288 with 1 Axes>"
      ]
     },
     "metadata": {
      "needs_background": "light"
     },
     "output_type": "display_data"
    }
   ],
   "source": [
    "Arreglo_betas = Modelo1['betasArray']\n",
    "\n",
    "GrafEvolucion(X, 1000, 50000, Arreglo_betas)"
   ]
  },
  {
   "cell_type": "markdown",
   "metadata": {},
   "source": [
    "### Modelo 2 - SalesPrice - TotRmsAbvGrd"
   ]
  },
  {
   "cell_type": "code",
   "execution_count": 237,
   "metadata": {},
   "outputs": [],
   "source": [
    "x2 = dataset['TotRmsAbvGrd'].values.reshape(-1, 1)\n",
    "y2 = dataset['SalesPrice'].values.reshape(-1, 1)\n",
    "\n",
    "split = 0.8\n",
    "nTrain = int(len(x2)*split)\n",
    "Indices = list(range(0, len(x2)))\n",
    "random.seed(123)\n",
    "random.shuffle(Indices)\n",
    "TrainSet_x2 = x2[Indices[0 : nTrain]]\n",
    "TestSet_x2 = x2[Indices[nTrain : len(Indices)]]\n",
    "TrainSet_y2 = y2[Indices[0 : nTrain]]\n",
    "TestSet_y2 = y2[Indices[nTrain : len(Indices)]]"
   ]
  },
  {
   "cell_type": "code",
   "execution_count": 223,
   "metadata": {},
   "outputs": [
    {
     "name": "stdout",
     "output_type": "stream",
     "text": [
      "------------------------\n",
      "iteracion 10000\n",
      "error 2255375274.0446215\n",
      "modelo b0: 10261.080701369774, b1: 26146.113063766654\n",
      "------------------------\n",
      "iteracion 20000\n",
      "error 2255375259.1087246\n",
      "modelo b0: 10283.777959288147, b1: 26142.83902530275\n",
      "------------------------\n",
      "iteracion 30000\n",
      "error 2255375259.108534\n",
      "modelo b0: 10283.858994915417, b1: 26142.82733605987\n",
      "------------------------\n",
      "iteracion 40000\n",
      "error 2255375259.108534\n",
      "modelo b0: 10283.859284235463, b1: 26142.827294325976\n",
      "------------------------\n",
      "iteracion 50000\n",
      "error 2255375259.108534\n",
      "modelo b0: 10283.85928526823, b1: 26142.827294176997\n"
     ]
    }
   ],
   "source": [
    "X2 = TrainSet_x2\n",
    "Y2 = TrainSet_y2\n",
    "\n",
    "Modelo2 = GradDesc(X2, Y2, 50000, 10000, 0.01)"
   ]
  },
  {
   "cell_type": "code",
   "execution_count": 224,
   "metadata": {},
   "outputs": [
    {
     "data": {
      "image/png": "[encoded data removed]",
      "text/plain": [
       "<Figure size 432x288 with 1 Axes>"
      ]
     },
     "metadata": {
      "needs_background": "light"
     },
     "output_type": "display_data"
    }
   ],
   "source": [
    "Arreglo_errores = Modelo2['errorArray']\n",
    "color = '#00cc00'\n",
    "marcador = '*'\n",
    "\n",
    "GrafError(Arreglo_errores, color, marcador)"
   ]
  },
  {
   "cell_type": "code",
   "execution_count": 226,
   "metadata": {},
   "outputs": [
    {
     "data": {
      "image/png": "[encoded data removed]",
      "text/plain": [
       "<Figure size 432x288 with 1 Axes>"
      ]
     },
     "metadata": {
      "needs_background": "light"
     },
     "output_type": "display_data"
    }
   ],
   "source": [
    "Arreglo_betas = Modelo2['betasArray']\n",
    "\n",
    "GrafEvolucion(X, 100, 50000, Arreglo_betas)"
   ]
  },
  {
   "cell_type": "markdown",
   "metadata": {},
   "source": [
    "## Modelo con Scikit-Learn"
   ]
  },
  {
   "cell_type": "markdown",
   "metadata": {},
   "source": [
    "### Modelo 1 - SalesPrice - OverallQual"
   ]
  },
  {
   "cell_type": "markdown",
   "metadata": {},
   "source": [
    "#### Split de Train y Test"
   ]
  },
  {
   "cell_type": "code",
   "execution_count": 239,
   "metadata": {},
   "outputs": [],
   "source": [
    "x3 = dataset['OverallQual'].values.reshape(-1, 1)\n",
    "y3 = dataset['SalesPrice'].values.reshape(-1, 1)\n",
    "from sklearn.model_selection import train_test_split\n",
    "dataTrain, dataTest, dataTrain_Sales, dataTest_Sales = train_test_split(x3, y3, test_size=0.3, shuffle=True, random_state=123)"
   ]
  },
  {
   "cell_type": "markdown",
   "metadata": {},
   "source": [
    "#### Entrenamiento del modelo"
   ]
  },
  {
   "cell_type": "code",
   "execution_count": 240,
   "metadata": {},
   "outputs": [
    {
     "name": "stdout",
     "output_type": "stream",
     "text": [
      "[[44976.492]]\n",
      "[-94032.17]\n"
     ]
    }
   ],
   "source": [
    "from sklearn.linear_model import LinearRegression\n",
    "\n",
    "lm_1 = LinearRegression()\n",
    "lm_1.fit(dataTrain, dataTrain_Sales)\n",
    "print(lm_1.coef_)\n",
    "print(lm_1.intercept_)"
   ]
  },
  {
   "cell_type": "markdown",
   "metadata": {},
   "source": [
    "#### Prediccion"
   ]
  },
  {
   "cell_type": "code",
   "execution_count": 241,
   "metadata": {},
   "outputs": [
    {
     "data": {
      "text/plain": [
       "array([[130850.3  ],\n",
       "       [ 40897.297],\n",
       "       [130850.3  ],\n",
       "       ...,\n",
       "       [220803.27 ],\n",
       "       [130850.3  ],\n",
       "       [175826.77 ]], dtype=float32)"
      ]
     },
     "execution_count": 241,
     "metadata": {},
     "output_type": "execute_result"
    }
   ],
   "source": [
    "y_hat_skl = lm_1.predict(dataTrain)\n",
    "y_hat_skl"
   ]
  },
  {
   "cell_type": "markdown",
   "metadata": {},
   "source": [
    "### Modelo 2 SalesPrice - TotRmsAbvGrd"
   ]
  },
  {
   "cell_type": "markdown",
   "metadata": {},
   "source": [
    "#### Split de Train y Test"
   ]
  },
  {
   "cell_type": "code",
   "execution_count": 242,
   "metadata": {},
   "outputs": [],
   "source": [
    "x4 = dataset['TotRmsAbvGrd'].values.reshape(-1, 1)\n",
    "y4 = dataset['SalesPrice'].values.reshape(-1, 1)\n",
    "from sklearn.model_selection import train_test_split\n",
    "dataTrain, dataTest, dataTrain_Sales, dataTest_Sales = train_test_split(x4, y4, test_size=0.3, shuffle=True, random_state=123)"
   ]
  },
  {
   "cell_type": "markdown",
   "metadata": {},
   "source": [
    "#### Entrenamiento del modelo"
   ]
  },
  {
   "cell_type": "code",
   "execution_count": 243,
   "metadata": {},
   "outputs": [
    {
     "name": "stdout",
     "output_type": "stream",
     "text": [
      "[[25530.086]]\n",
      "[13362.5625]\n"
     ]
    }
   ],
   "source": [
    "from sklearn.linear_model import LinearRegression\n",
    "\n",
    "lm_2 = LinearRegression()\n",
    "lm_2.fit(dataTrain, dataTrain_Sales)\n",
    "print(lm_2.coef_)\n",
    "print(lm_2.intercept_)"
   ]
  },
  {
   "cell_type": "markdown",
   "metadata": {},
   "source": [
    "#### Prediccion"
   ]
  },
  {
   "cell_type": "code",
   "execution_count": 244,
   "metadata": {},
   "outputs": [
    {
     "data": {
      "text/plain": [
       "array([[141013.  ],\n",
       "       [166543.08],\n",
       "       [141013.  ],\n",
       "       ...,\n",
       "       [243133.34],\n",
       "       [141013.  ],\n",
       "       [166543.08]], dtype=float32)"
      ]
     },
     "execution_count": 244,
     "metadata": {},
     "output_type": "execute_result"
    }
   ],
   "source": [
    "y_hat_skl = lm_2.predict(dataTrain)\n",
    "y_hat_skl"
   ]
  },
  {
   "cell_type": "markdown",
   "metadata": {},
   "source": [
    "## Función para predicción"
   ]
  },
  {
   "cell_type": "code",
   "execution_count": 254,
   "metadata": {},
   "outputs": [],
   "source": [
    "def PredTriple(X, betas_grad, modelo_skl):\n",
    "    # Creación del vector para la función de gradientes\n",
    "    vect1 = np.ones_like(X)\n",
    "    matriz = np.hstack([X, vect1])\n",
    "\n",
    "    # Predicciones en cada modelo\n",
    "    ypred_grad = np.dot(matriz, betas_grad).reshape(-1,1)\n",
    "    ypred_skl = modelo_skl.predict(X)\n",
    "    ypred_prom = (ypred_grad + ypred_skl)/2\n",
    "\n",
    "    # Arreglo con resultados\n",
    "    result = np.array([ypred_grad, ypred_skl, ypred_prom])\n",
    "    print(result)\n",
    "    \n",
    "    return result"
   ]
  },
  {
   "cell_type": "markdown",
   "metadata": {},
   "source": [
    "### Error de los modelos"
   ]
  },
  {
   "cell_type": "code",
   "execution_count": 379,
   "metadata": {},
   "outputs": [
    {
     "name": "stdout",
     "output_type": "stream",
     "text": [
      "[[3.20417345e+08]\n",
      " [3.20153908e+08]\n",
      " [3.20258657e+08]]\n"
     ]
    }
   ],
   "source": [
    "error_pred = np.sum(np.power(Y - result, 2), axis = 1)/(2*n)\n",
    "print(error_pred)"
   ]
  },
  {
   "cell_type": "markdown",
   "metadata": {},
   "source": [
    "### Prediccion con Modelo 1"
   ]
  },
  {
   "cell_type": "code",
   "execution_count": null,
   "metadata": {},
   "outputs": [],
   "source": [
    "X1_test = TestSet_x1\n",
    "Y1_test = TestSet_y1\n",
    "\n",
    "ArrBetas1 = Modelo1['betas']\n",
    "Pred_modelo1 = PredTriple(X1_test, ArrBetas1, lm_1)\n",
    "Pred_modelo1"
   ]
  },
  {
   "cell_type": "code",
   "execution_count": 258,
   "metadata": {},
   "outputs": [
    {
     "name": "stdout",
     "output_type": "stream",
     "text": [
      "[[1.28166938e+09]\n",
      " [1.28061558e+09]\n",
      " [1.28103460e+09]]\n"
     ]
    }
   ],
   "source": [
    "n = len(Y1_test)\n",
    "error_pred = np.sum(np.power(Y1_test - Pred_modelo1, 2), axis = 1)/(2*n)\n",
    "print(error_pred)"
   ]
  },
  {
   "cell_type": "markdown",
   "metadata": {},
   "source": [
    "### Prediccion con Modelo 2"
   ]
  },
  {
   "cell_type": "code",
   "execution_count": null,
   "metadata": {},
   "outputs": [],
   "source": [
    "X2_test = TestSet_x2\n",
    "Y2_test = TestSet_y2\n",
    "\n",
    "ArrBetas2 = Modelo2['betas']\n",
    "Pred_modelo2 = PredTriple(X2_test, ArrBetas2, lm_2)\n",
    "Pred_modelo2"
   ]
  },
  {
   "cell_type": "code",
   "execution_count": 260,
   "metadata": {},
   "outputs": [
    {
     "name": "stdout",
     "output_type": "stream",
     "text": [
      "[[2.25425381e+09]\n",
      " [2.25579053e+09]\n",
      " [2.25480184e+09]]\n"
     ]
    }
   ],
   "source": [
    "n = len(Y2_test)\n",
    "error_pred2 = np.sum(np.power(Y2_test - Pred_modelo2, 2), axis = 1)/(2*n)\n",
    "print(error_pred2)"
   ]
  },
  {
   "cell_type": "markdown",
   "metadata": {},
   "source": [
    "## Conclusion"
   ]
  },
  {
   "cell_type": "markdown",
   "metadata": {},
   "source": [
    "Después de realizar las predicciones utilizando para el Modelo 1 la variable independiente 'OverallQual' y para el Modelo 2 la variable 'TotRmAvgGrd', podemos ver que el que tiene un error más bajo con un valor entre 1.28167 y 1.28062 es el Modelo 1, que de hecho según la matriz de correlación es la variable que tiene un mayor coeficiente que el resto, siendo este un 0.79.  Por otro lado, comparando las 3 distintas técnicas de entrenamiento del modelo, vemos que el que tiene el error más bajo es el modelo entrenado con Scikit Lear con un valor de 1.28062, estando por debajo de los otros dos errores con una diferencia mínima."
   ]
  },
  {
   "cell_type": "code",
   "execution_count": null,
   "metadata": {},
   "outputs": [],
   "source": []
  }
 ],
 "metadata": {
  "kernelspec": {
   "display_name": "Python 3",
   "language": "python",
   "name": "python3"
  },
  "language_info": {
   "codemirror_mode": {
    "name": "ipython",
    "version": 3
   },
   "file_extension": ".py",
   "mimetype": "text/x-python",
   "name": "python",
   "nbconvert_exporter": "python",
   "pygments_lexer": "ipython3",
   "version": "3.8.5"
  }
 },
 "nbformat": 4,
 "nbformat_minor": 4
}
