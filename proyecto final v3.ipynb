{
 "cells": [
  {
   "cell_type": "markdown",
   "metadata": {},
   "source": [
    "### Paquetes utilizados"
   ]
  },
  {
   "cell_type": "code",
   "execution_count": 42,
   "metadata": {},
   "outputs": [],
   "source": [
    "import numpy as np\n",
    "import pandas as pd\n",
    "import matplotlib.pyplot as plt\n",
    "import os\n",
    "import seaborn as sns\n",
    "import matplotlib.pyplot as plt\n",
    "import random\n",
    "from sklearn.model_selection import train_test_split\n",
    "from sklearn.linear_model import LinearRegression"
   ]
  },
  {
   "cell_type": "markdown",
   "metadata": {},
   "source": [
    "### DataSet a utilizar."
   ]
  },
  {
   "cell_type": "code",
   "execution_count": 3,
   "metadata": {
    "scrolled": true
   },
   "outputs": [
    {
     "name": "stdout",
     "output_type": "stream",
     "text": [
      "[[2.08500e+05 7.00000e+00 8.56000e+02 8.00000e+00 2.00300e+03 6.50000e+01]\n",
      " [1.81500e+05 6.00000e+00 1.26200e+03 6.00000e+00 1.97600e+03 8.00000e+01]\n",
      " [2.23500e+05 7.00000e+00 9.20000e+02 6.00000e+00 2.00100e+03 6.80000e+01]\n",
      " ...\n",
      " [2.66500e+05 7.00000e+00 1.18800e+03 9.00000e+00 1.94100e+03 6.60000e+01]\n",
      " [1.42125e+05 5.00000e+00 1.07800e+03 5.00000e+00 1.95000e+03 6.80000e+01]\n",
      " [1.47500e+05 5.00000e+00 1.25600e+03 6.00000e+00 1.96500e+03 7.50000e+01]]\n"
     ]
    }
   ],
   "source": [
    "data = np.load ('proyecto_training_data.npy')\n",
    "print (data)"
   ]
  },
  {
   "cell_type": "markdown",
   "metadata": {},
   "source": [
    "### Se convierte a un DataFrame para mejor manejo"
   ]
  },
  {
   "cell_type": "code",
   "execution_count": 4,
   "metadata": {
    "scrolled": true
   },
   "outputs": [
    {
     "data": {
      "text/html": [
       "<div>\n",
       "<style scoped>\n",
       "    .dataframe tbody tr th:only-of-type {\n",
       "        vertical-align: middle;\n",
       "    }\n",
       "\n",
       "    .dataframe tbody tr th {\n",
       "        vertical-align: top;\n",
       "    }\n",
       "\n",
       "    .dataframe thead th {\n",
       "        text-align: right;\n",
       "    }\n",
       "</style>\n",
       "<table border=\"1\" class=\"dataframe\">\n",
       "  <thead>\n",
       "    <tr style=\"text-align: right;\">\n",
       "      <th></th>\n",
       "      <th>SalesPrice</th>\n",
       "      <th>OverallQual</th>\n",
       "      <th>lstFirSF</th>\n",
       "      <th>TotRmsAbvGrd</th>\n",
       "      <th>YearBuilt</th>\n",
       "      <th>LotFrontage</th>\n",
       "    </tr>\n",
       "  </thead>\n",
       "  <tbody>\n",
       "    <tr>\n",
       "      <th>0</th>\n",
       "      <td>208500.0</td>\n",
       "      <td>7.0</td>\n",
       "      <td>856.0</td>\n",
       "      <td>8.0</td>\n",
       "      <td>2003.0</td>\n",
       "      <td>65.0</td>\n",
       "    </tr>\n",
       "    <tr>\n",
       "      <th>1</th>\n",
       "      <td>181500.0</td>\n",
       "      <td>6.0</td>\n",
       "      <td>1262.0</td>\n",
       "      <td>6.0</td>\n",
       "      <td>1976.0</td>\n",
       "      <td>80.0</td>\n",
       "    </tr>\n",
       "    <tr>\n",
       "      <th>2</th>\n",
       "      <td>223500.0</td>\n",
       "      <td>7.0</td>\n",
       "      <td>920.0</td>\n",
       "      <td>6.0</td>\n",
       "      <td>2001.0</td>\n",
       "      <td>68.0</td>\n",
       "    </tr>\n",
       "    <tr>\n",
       "      <th>3</th>\n",
       "      <td>140000.0</td>\n",
       "      <td>7.0</td>\n",
       "      <td>961.0</td>\n",
       "      <td>7.0</td>\n",
       "      <td>1915.0</td>\n",
       "      <td>60.0</td>\n",
       "    </tr>\n",
       "    <tr>\n",
       "      <th>4</th>\n",
       "      <td>250000.0</td>\n",
       "      <td>8.0</td>\n",
       "      <td>1145.0</td>\n",
       "      <td>9.0</td>\n",
       "      <td>2000.0</td>\n",
       "      <td>84.0</td>\n",
       "    </tr>\n",
       "    <tr>\n",
       "      <th>...</th>\n",
       "      <td>...</td>\n",
       "      <td>...</td>\n",
       "      <td>...</td>\n",
       "      <td>...</td>\n",
       "      <td>...</td>\n",
       "      <td>...</td>\n",
       "    </tr>\n",
       "    <tr>\n",
       "      <th>1455</th>\n",
       "      <td>175000.0</td>\n",
       "      <td>6.0</td>\n",
       "      <td>953.0</td>\n",
       "      <td>7.0</td>\n",
       "      <td>1999.0</td>\n",
       "      <td>62.0</td>\n",
       "    </tr>\n",
       "    <tr>\n",
       "      <th>1456</th>\n",
       "      <td>210000.0</td>\n",
       "      <td>6.0</td>\n",
       "      <td>2073.0</td>\n",
       "      <td>7.0</td>\n",
       "      <td>1978.0</td>\n",
       "      <td>85.0</td>\n",
       "    </tr>\n",
       "    <tr>\n",
       "      <th>1457</th>\n",
       "      <td>266500.0</td>\n",
       "      <td>7.0</td>\n",
       "      <td>1188.0</td>\n",
       "      <td>9.0</td>\n",
       "      <td>1941.0</td>\n",
       "      <td>66.0</td>\n",
       "    </tr>\n",
       "    <tr>\n",
       "      <th>1458</th>\n",
       "      <td>142125.0</td>\n",
       "      <td>5.0</td>\n",
       "      <td>1078.0</td>\n",
       "      <td>5.0</td>\n",
       "      <td>1950.0</td>\n",
       "      <td>68.0</td>\n",
       "    </tr>\n",
       "    <tr>\n",
       "      <th>1459</th>\n",
       "      <td>147500.0</td>\n",
       "      <td>5.0</td>\n",
       "      <td>1256.0</td>\n",
       "      <td>6.0</td>\n",
       "      <td>1965.0</td>\n",
       "      <td>75.0</td>\n",
       "    </tr>\n",
       "  </tbody>\n",
       "</table>\n",
       "<p>1460 rows × 6 columns</p>\n",
       "</div>"
      ],
      "text/plain": [
       "      SalesPrice  OverallQual  lstFirSF  TotRmsAbvGrd  YearBuilt  LotFrontage\n",
       "0       208500.0          7.0     856.0           8.0     2003.0         65.0\n",
       "1       181500.0          6.0    1262.0           6.0     1976.0         80.0\n",
       "2       223500.0          7.0     920.0           6.0     2001.0         68.0\n",
       "3       140000.0          7.0     961.0           7.0     1915.0         60.0\n",
       "4       250000.0          8.0    1145.0           9.0     2000.0         84.0\n",
       "...          ...          ...       ...           ...        ...          ...\n",
       "1455    175000.0          6.0     953.0           7.0     1999.0         62.0\n",
       "1456    210000.0          6.0    2073.0           7.0     1978.0         85.0\n",
       "1457    266500.0          7.0    1188.0           9.0     1941.0         66.0\n",
       "1458    142125.0          5.0    1078.0           5.0     1950.0         68.0\n",
       "1459    147500.0          5.0    1256.0           6.0     1965.0         75.0\n",
       "\n",
       "[1460 rows x 6 columns]"
      ]
     },
     "execution_count": 4,
     "metadata": {},
     "output_type": "execute_result"
    }
   ],
   "source": [
    "dataset = pd.DataFrame(data, columns = ['SalesPrice','OverallQual','lstFirSF','TotRmsAbvGrd','YearBuilt','LotFrontage'])\n",
    "dataset"
   ]
  },
  {
   "cell_type": "markdown",
   "metadata": {},
   "source": [
    "### Se separa en un 80% de entranamiento y un 20% prueba"
   ]
  },
  {
   "cell_type": "code",
   "execution_count": 8,
   "metadata": {},
   "outputs": [],
   "source": [
    "porc1 = slice(0,1168,1)\n",
    "porc2 = slice(1168,1460,1) \n",
    "Entrena = dataset[porc1] \n",
    "Prueba = dataset[porc2]"
   ]
  },
  {
   "cell_type": "markdown",
   "metadata": {},
   "source": [
    "### Analisis Exploratorio"
   ]
  },
  {
   "cell_type": "markdown",
   "metadata": {},
   "source": [
    "#### Media por cada variable"
   ]
  },
  {
   "cell_type": "code",
   "execution_count": 9,
   "metadata": {
    "scrolled": true
   },
   "outputs": [
    {
     "data": {
      "text/plain": [
       "SalesPrice      180590.277397\n",
       "OverallQual          6.101027\n",
       "lstFirSF          1156.323630\n",
       "TotRmsAbvGrd         6.485445\n",
       "YearBuilt         1971.451199\n",
       "LotFrontage         69.946985\n",
       "dtype: float64"
      ]
     },
     "execution_count": 9,
     "metadata": {},
     "output_type": "execute_result"
    }
   ],
   "source": [
    "media = np.mean(Entrena, 0)\n",
    "media"
   ]
  },
  {
   "cell_type": "markdown",
   "metadata": {},
   "source": [
    "#### Valor Maximo"
   ]
  },
  {
   "cell_type": "code",
   "execution_count": 10,
   "metadata": {
    "scrolled": false
   },
   "outputs": [
    {
     "data": {
      "text/plain": [
       "SalesPrice      755000.0\n",
       "OverallQual         10.0\n",
       "lstFirSF          3228.0\n",
       "TotRmsAbvGrd        14.0\n",
       "YearBuilt         2010.0\n",
       "LotFrontage        313.0\n",
       "dtype: float64"
      ]
     },
     "execution_count": 10,
     "metadata": {},
     "output_type": "execute_result"
    }
   ],
   "source": [
    "np.amax(Entrena, 0)"
   ]
  },
  {
   "cell_type": "markdown",
   "metadata": {},
   "source": [
    "#### Valor Minimo"
   ]
  },
  {
   "cell_type": "code",
   "execution_count": 51,
   "metadata": {
    "scrolled": false
   },
   "outputs": [
    {
     "data": {
      "text/plain": [
       "SalesPrice      34900.0\n",
       "OverallQual         1.0\n",
       "lstFirSF          334.0\n",
       "TotRmsAbvGrd        2.0\n",
       "YearBuilt        1875.0\n",
       "LotFrontage        21.0\n",
       "dtype: float64"
      ]
     },
     "execution_count": 51,
     "metadata": {},
     "output_type": "execute_result"
    }
   ],
   "source": [
    "np.amin(ochenta, 0)"
   ]
  },
  {
   "cell_type": "markdown",
   "metadata": {},
   "source": [
    "#### Rango peak to peak"
   ]
  },
  {
   "cell_type": "code",
   "execution_count": null,
   "metadata": {},
   "outputs": [],
   "source": []
  },
  {
   "cell_type": "markdown",
   "metadata": {},
   "source": [
    "#### Desviación estándar"
   ]
  },
  {
   "cell_type": "code",
   "execution_count": 11,
   "metadata": {
    "scrolled": false
   },
   "outputs": [
    {
     "data": {
      "text/plain": [
       "SalesPrice      78781.951080\n",
       "OverallQual         1.377435\n",
       "lstFirSF          373.620332\n",
       "TotRmsAbvGrd        1.608452\n",
       "YearBuilt          29.938882\n",
       "LotFrontage        23.465955\n",
       "dtype: float64"
      ]
     },
     "execution_count": 11,
     "metadata": {},
     "output_type": "execute_result"
    }
   ],
   "source": [
    "np.std(Entrena, 0)"
   ]
  },
  {
   "cell_type": "markdown",
   "metadata": {},
   "source": [
    "### Histograma por Variable "
   ]
  },
  {
   "cell_type": "markdown",
   "metadata": {},
   "source": [
    "#### SalesPrice"
   ]
  },
  {
   "cell_type": "code",
   "execution_count": 64,
   "metadata": {},
   "outputs": [
    {
     "name": "stderr",
     "output_type": "stream",
     "text": [
      "C:\\Users\\Julio Rodas\\anaconda3\\lib\\site-packages\\seaborn\\distributions.py:2551: FutureWarning: `distplot` is a deprecated function and will be removed in a future version. Please adapt your code to use either `displot` (a figure-level function with similar flexibility) or `histplot` (an axes-level function for histograms).\n",
      "  warnings.warn(msg, FutureWarning)\n"
     ]
    },
    {
     "data": {
      "image/png": "[encoded data removed]",
      "text/plain": [
       "<Figure size 432x288 with 1 Axes>"
      ]
     },
     "metadata": {
      "needs_background": "light"
     },
     "output_type": "display_data"
    }
   ],
   "source": [
    "Sal = Entrena.iloc[:, 0]\n",
    "sns.set_color_codes()\n",
    "ax = sns.distplot(Sal, color=\"y\")"
   ]
  },
  {
   "cell_type": "markdown",
   "metadata": {},
   "source": [
    "#### OverallQual"
   ]
  },
  {
   "cell_type": "code",
   "execution_count": 13,
   "metadata": {
    "scrolled": true
   },
   "outputs": [
    {
     "name": "stderr",
     "output_type": "stream",
     "text": [
      "C:\\Users\\Julio Rodas\\anaconda3\\lib\\site-packages\\seaborn\\distributions.py:2551: FutureWarning: `distplot` is a deprecated function and will be removed in a future version. Please adapt your code to use either `displot` (a figure-level function with similar flexibility) or `histplot` (an axes-level function for histograms).\n",
      "  warnings.warn(msg, FutureWarning)\n"
     ]
    },
    {
     "data": {
      "image/png": "[encoded data removed]",
      "text/plain": [
       "<Figure size 432x288 with 1 Axes>"
      ]
     },
     "metadata": {
      "needs_background": "light"
     },
     "output_type": "display_data"
    }
   ],
   "source": [
    "Ove = Entrena.iloc[:, 1]\n",
    "sns.set_color_codes()\n",
    "ax = sns.distplot(Ove, color=\"y\")"
   ]
  },
  {
   "cell_type": "markdown",
   "metadata": {},
   "source": [
    "#### lstFirSF"
   ]
  },
  {
   "cell_type": "code",
   "execution_count": 65,
   "metadata": {
    "scrolled": true
   },
   "outputs": [
    {
     "name": "stderr",
     "output_type": "stream",
     "text": [
      "C:\\Users\\Julio Rodas\\anaconda3\\lib\\site-packages\\seaborn\\distributions.py:2551: FutureWarning: `distplot` is a deprecated function and will be removed in a future version. Please adapt your code to use either `displot` (a figure-level function with similar flexibility) or `histplot` (an axes-level function for histograms).\n",
      "  warnings.warn(msg, FutureWarning)\n"
     ]
    },
    {
     "data": {
      "image/png": "[encoded data removed]",
      "text/plain": [
       "<Figure size 432x288 with 1 Axes>"
      ]
     },
     "metadata": {
      "needs_background": "light"
     },
     "output_type": "display_data"
    }
   ],
   "source": [
    "Ist = Entrena.iloc[:, 2]\n",
    "sns.set_color_codes()\n",
    "ax = sns.distplot(Ist, color=\"y\")"
   ]
  },
  {
   "cell_type": "markdown",
   "metadata": {},
   "source": [
    "#### TotRmsAbvGrd"
   ]
  },
  {
   "cell_type": "code",
   "execution_count": 66,
   "metadata": {
    "scrolled": true
   },
   "outputs": [
    {
     "name": "stderr",
     "output_type": "stream",
     "text": [
      "C:\\Users\\Julio Rodas\\anaconda3\\lib\\site-packages\\seaborn\\distributions.py:2551: FutureWarning: `distplot` is a deprecated function and will be removed in a future version. Please adapt your code to use either `displot` (a figure-level function with similar flexibility) or `histplot` (an axes-level function for histograms).\n",
      "  warnings.warn(msg, FutureWarning)\n"
     ]
    },
    {
     "data": {
      "image/png": "[encoded data removed]",
      "text/plain": [
       "<Figure size 432x288 with 1 Axes>"
      ]
     },
     "metadata": {
      "needs_background": "light"
     },
     "output_type": "display_data"
    }
   ],
   "source": [
    "Tot = Entrena.iloc[:, 3]\n",
    "sns.set_color_codes()\n",
    "ax = sns.distplot(Tot, color=\"y\")"
   ]
  },
  {
   "cell_type": "markdown",
   "metadata": {},
   "source": [
    "#### YearBuilt"
   ]
  },
  {
   "cell_type": "code",
   "execution_count": 67,
   "metadata": {
    "scrolled": true
   },
   "outputs": [
    {
     "name": "stderr",
     "output_type": "stream",
     "text": [
      "C:\\Users\\Julio Rodas\\anaconda3\\lib\\site-packages\\seaborn\\distributions.py:2551: FutureWarning: `distplot` is a deprecated function and will be removed in a future version. Please adapt your code to use either `displot` (a figure-level function with similar flexibility) or `histplot` (an axes-level function for histograms).\n",
      "  warnings.warn(msg, FutureWarning)\n"
     ]
    },
    {
     "data": {
      "image/png": "[encoded data removed]",
      "text/plain": [
       "<Figure size 432x288 with 1 Axes>"
      ]
     },
     "metadata": {
      "needs_background": "light"
     },
     "output_type": "display_data"
    }
   ],
   "source": [
    "Year = Entrena.iloc[:, 4]\n",
    "sns.set_color_codes()\n",
    "ax = sns.distplot(Year, color=\"y\")"
   ]
  },
  {
   "cell_type": "markdown",
   "metadata": {},
   "source": [
    "#### LotFrontage"
   ]
  },
  {
   "cell_type": "code",
   "execution_count": 68,
   "metadata": {
    "scrolled": true
   },
   "outputs": [
    {
     "name": "stderr",
     "output_type": "stream",
     "text": [
      "C:\\Users\\Julio Rodas\\anaconda3\\lib\\site-packages\\seaborn\\distributions.py:2551: FutureWarning: `distplot` is a deprecated function and will be removed in a future version. Please adapt your code to use either `displot` (a figure-level function with similar flexibility) or `histplot` (an axes-level function for histograms).\n",
      "  warnings.warn(msg, FutureWarning)\n"
     ]
    },
    {
     "data": {
      "image/png": "[encoded data removed]",
      "text/plain": [
       "<Figure size 432x288 with 1 Axes>"
      ]
     },
     "metadata": {
      "needs_background": "light"
     },
     "output_type": "display_data"
    }
   ],
   "source": [
    "Lot = Entrena.iloc[:, 5]\n",
    "sns.set_color_codes()\n",
    "ax = sns.distplot(Lot, color=\"y\")"
   ]
  },
  {
   "cell_type": "markdown",
   "metadata": {},
   "source": [
    "### Calculos por cada una de las variables independientes."
   ]
  },
  {
   "cell_type": "markdown",
   "metadata": {},
   "source": [
    "#### Coeficiente de correlación"
   ]
  },
  {
   "cell_type": "code",
   "execution_count": 29,
   "metadata": {
    "scrolled": false
   },
   "outputs": [
    {
     "data": {
      "image/png": "[encoded data removed]",
      "text/plain": [
       "<Figure size 432x288 with 2 Axes>"
      ]
     },
     "metadata": {
      "needs_background": "light"
     },
     "output_type": "display_data"
    }
   ],
   "source": [
    "Entrena_small = Entrena.iloc[:,:6]\n",
    "correlacion_mat = Entrena_small.corr()\n",
    "sns.heatmap(correlacion_mat, annot = True)\n",
    "plt.title(\"Correlacion del data set de entrenamiento\")\n",
    "plt.xlabel(\"Variables\")\n",
    "plt.ylabel(\"Variables\")\n",
    "plt.show()"
   ]
  },
  {
   "cell_type": "markdown",
   "metadata": {},
   "source": [
    "#### Grafica de puntos por x, y"
   ]
  },
  {
   "cell_type": "markdown",
   "metadata": {},
   "source": [
    "##### OverallQual-SalesPrice"
   ]
  },
  {
   "cell_type": "code",
   "execution_count": 56,
   "metadata": {
    "scrolled": false
   },
   "outputs": [
    {
     "data": {
      "text/plain": [
       "Text(0.5, 1.0, 'LotFrontage-YearBuilt')"
      ]
     },
     "execution_count": 56,
     "metadata": {},
     "output_type": "execute_result"
    },
    {
     "data": {
      "image/png": "[encoded data removed]",
      "text/plain": [
       "<Figure size 1080x288 with 3 Axes>"
      ]
     },
     "metadata": {
      "needs_background": "light"
     },
     "output_type": "display_data"
    }
   ],
   "source": [
    "f, [p1, p2, p3] = plt.subplots(1,3)\n",
    "f.set_figwidth(15)\n",
    "\n",
    "p1.scatter(dataset['OverallQual'],dataset['SalesPrice'])\n",
    "p1.set_xlabel(\"OverallQual\")\n",
    "p1.set_ylabel(\"SalesPrice\")\n",
    "p1.set_title(\"OverallQual-SalesPrice\")\n",
    "\n",
    "p2.scatter(dataset['TotRmsAbvGrd'],dataset['lstFirSF'],\n",
    "            c=\"g\", alpha=0.5, marker= r'+')\n",
    "p2.set_xlabel(\"TotRmsAbvGrd\")\n",
    "p2.set_ylabel(\"lstFirSF\")\n",
    "p2.set_title(\"TotRmsAbvGrd-lstFirSF\")\n",
    "\n",
    "p3.scatter(dataset['LotFrontage'],dataset['YearBuilt'],\n",
    "            c=\"g\", alpha=0.5, marker= r'*')\n",
    "p3.set_xlabel(\"LotFrontage\")\n",
    "p3.set_ylabel(\"YearBuilt\")\n",
    "p3.set_title(\"LotFrontage-YearBuilt\")\n"
   ]
  },
  {
   "cell_type": "markdown",
   "metadata": {},
   "source": [
    "#### Grafica de dispercion con el coeficiente de correlación"
   ]
  },
  {
   "cell_type": "code",
   "execution_count": 45,
   "metadata": {
    "scrolled": true
   },
   "outputs": [
    {
     "ename": "NotFittedError",
     "evalue": "This LinearRegression instance is not fitted yet. Call 'fit' with appropriate arguments before using this estimator.",
     "output_type": "error",
     "traceback": [
      "\u001b[1;31m---------------------------------------------------------------------------\u001b[0m",
      "\u001b[1;31mNotFittedError\u001b[0m                            Traceback (most recent call last)",
      "\u001b[1;32m<ipython-input-45-0a18aaf2f383>\u001b[0m in \u001b[0;36m<module>\u001b[1;34m\u001b[0m\n\u001b[0;32m      1\u001b[0m \u001b[0mlr_1\u001b[0m \u001b[1;33m=\u001b[0m \u001b[0mLinearRegression\u001b[0m \u001b[1;33m(\u001b[0m\u001b[1;33m)\u001b[0m\u001b[1;33m\u001b[0m\u001b[1;33m\u001b[0m\u001b[0m\n\u001b[1;32m----> 2\u001b[1;33m \u001b[0mpredict_Entrena\u001b[0m \u001b[1;33m=\u001b[0m \u001b[0mlr_1\u001b[0m\u001b[1;33m.\u001b[0m\u001b[0mpredict\u001b[0m\u001b[1;33m(\u001b[0m\u001b[0mEntrena\u001b[0m\u001b[1;33m)\u001b[0m\u001b[1;33m\u001b[0m\u001b[1;33m\u001b[0m\u001b[0m\n\u001b[0m\u001b[0;32m      3\u001b[0m \u001b[0mplt\u001b[0m\u001b[1;33m.\u001b[0m\u001b[0mscatter\u001b[0m\u001b[1;33m(\u001b[0m\u001b[0mEntrena\u001b[0m\u001b[1;33m[\u001b[0m\u001b[1;34m'OverallQual'\u001b[0m\u001b[1;33m]\u001b[0m\u001b[1;33m,\u001b[0m\u001b[0mEntrena\u001b[0m\u001b[1;33m[\u001b[0m\u001b[1;34m'SalesPrice'\u001b[0m\u001b[1;33m]\u001b[0m\u001b[1;33m)\u001b[0m\u001b[1;33m\u001b[0m\u001b[1;33m\u001b[0m\u001b[0m\n\u001b[0;32m      4\u001b[0m \u001b[0mplt\u001b[0m\u001b[1;33m.\u001b[0m\u001b[0mplot\u001b[0m\u001b[1;33m(\u001b[0m\u001b[0mEntrena\u001b[0m\u001b[1;33m,\u001b[0m\u001b[0mpredic_Entrena\u001b[0m\u001b[1;33m,\u001b[0m \u001b[0mcolor\u001b[0m \u001b[1;33m=\u001b[0m \u001b[1;34m'red'\u001b[0m\u001b[1;33m,\u001b[0m \u001b[0mlinewidth\u001b[0m \u001b[1;33m=\u001b[0m \u001b[1;36m2\u001b[0m\u001b[1;33m)\u001b[0m\u001b[1;33m\u001b[0m\u001b[1;33m\u001b[0m\u001b[0m\n\u001b[0;32m      5\u001b[0m \u001b[0mplt\u001b[0m\u001b[1;33m.\u001b[0m\u001b[0mshow\u001b[0m\u001b[1;33m(\u001b[0m\u001b[1;33m)\u001b[0m\u001b[1;33m\u001b[0m\u001b[1;33m\u001b[0m\u001b[0m\n",
      "\u001b[1;32m~\\anaconda3\\lib\\site-packages\\sklearn\\linear_model\\_base.py\u001b[0m in \u001b[0;36mpredict\u001b[1;34m(self, X)\u001b[0m\n\u001b[0;32m    234\u001b[0m             \u001b[0mReturns\u001b[0m \u001b[0mpredicted\u001b[0m \u001b[0mvalues\u001b[0m\u001b[1;33m.\u001b[0m\u001b[1;33m\u001b[0m\u001b[1;33m\u001b[0m\u001b[0m\n\u001b[0;32m    235\u001b[0m         \"\"\"\n\u001b[1;32m--> 236\u001b[1;33m         \u001b[1;32mreturn\u001b[0m \u001b[0mself\u001b[0m\u001b[1;33m.\u001b[0m\u001b[0m_decision_function\u001b[0m\u001b[1;33m(\u001b[0m\u001b[0mX\u001b[0m\u001b[1;33m)\u001b[0m\u001b[1;33m\u001b[0m\u001b[1;33m\u001b[0m\u001b[0m\n\u001b[0m\u001b[0;32m    237\u001b[0m \u001b[1;33m\u001b[0m\u001b[0m\n\u001b[0;32m    238\u001b[0m     \u001b[0m_preprocess_data\u001b[0m \u001b[1;33m=\u001b[0m \u001b[0mstaticmethod\u001b[0m\u001b[1;33m(\u001b[0m\u001b[0m_preprocess_data\u001b[0m\u001b[1;33m)\u001b[0m\u001b[1;33m\u001b[0m\u001b[1;33m\u001b[0m\u001b[0m\n",
      "\u001b[1;32m~\\anaconda3\\lib\\site-packages\\sklearn\\linear_model\\_base.py\u001b[0m in \u001b[0;36m_decision_function\u001b[1;34m(self, X)\u001b[0m\n\u001b[0;32m    214\u001b[0m \u001b[1;33m\u001b[0m\u001b[0m\n\u001b[0;32m    215\u001b[0m     \u001b[1;32mdef\u001b[0m \u001b[0m_decision_function\u001b[0m\u001b[1;33m(\u001b[0m\u001b[0mself\u001b[0m\u001b[1;33m,\u001b[0m \u001b[0mX\u001b[0m\u001b[1;33m)\u001b[0m\u001b[1;33m:\u001b[0m\u001b[1;33m\u001b[0m\u001b[1;33m\u001b[0m\u001b[0m\n\u001b[1;32m--> 216\u001b[1;33m         \u001b[0mcheck_is_fitted\u001b[0m\u001b[1;33m(\u001b[0m\u001b[0mself\u001b[0m\u001b[1;33m)\u001b[0m\u001b[1;33m\u001b[0m\u001b[1;33m\u001b[0m\u001b[0m\n\u001b[0m\u001b[0;32m    217\u001b[0m \u001b[1;33m\u001b[0m\u001b[0m\n\u001b[0;32m    218\u001b[0m         \u001b[0mX\u001b[0m \u001b[1;33m=\u001b[0m \u001b[0mcheck_array\u001b[0m\u001b[1;33m(\u001b[0m\u001b[0mX\u001b[0m\u001b[1;33m,\u001b[0m \u001b[0maccept_sparse\u001b[0m\u001b[1;33m=\u001b[0m\u001b[1;33m[\u001b[0m\u001b[1;34m'csr'\u001b[0m\u001b[1;33m,\u001b[0m \u001b[1;34m'csc'\u001b[0m\u001b[1;33m,\u001b[0m \u001b[1;34m'coo'\u001b[0m\u001b[1;33m]\u001b[0m\u001b[1;33m)\u001b[0m\u001b[1;33m\u001b[0m\u001b[1;33m\u001b[0m\u001b[0m\n",
      "\u001b[1;32m~\\anaconda3\\lib\\site-packages\\sklearn\\utils\\validation.py\u001b[0m in \u001b[0;36minner_f\u001b[1;34m(*args, **kwargs)\u001b[0m\n\u001b[0;32m     70\u001b[0m                           FutureWarning)\n\u001b[0;32m     71\u001b[0m         \u001b[0mkwargs\u001b[0m\u001b[1;33m.\u001b[0m\u001b[0mupdate\u001b[0m\u001b[1;33m(\u001b[0m\u001b[1;33m{\u001b[0m\u001b[0mk\u001b[0m\u001b[1;33m:\u001b[0m \u001b[0marg\u001b[0m \u001b[1;32mfor\u001b[0m \u001b[0mk\u001b[0m\u001b[1;33m,\u001b[0m \u001b[0marg\u001b[0m \u001b[1;32min\u001b[0m \u001b[0mzip\u001b[0m\u001b[1;33m(\u001b[0m\u001b[0msig\u001b[0m\u001b[1;33m.\u001b[0m\u001b[0mparameters\u001b[0m\u001b[1;33m,\u001b[0m \u001b[0margs\u001b[0m\u001b[1;33m)\u001b[0m\u001b[1;33m}\u001b[0m\u001b[1;33m)\u001b[0m\u001b[1;33m\u001b[0m\u001b[1;33m\u001b[0m\u001b[0m\n\u001b[1;32m---> 72\u001b[1;33m         \u001b[1;32mreturn\u001b[0m \u001b[0mf\u001b[0m\u001b[1;33m(\u001b[0m\u001b[1;33m**\u001b[0m\u001b[0mkwargs\u001b[0m\u001b[1;33m)\u001b[0m\u001b[1;33m\u001b[0m\u001b[1;33m\u001b[0m\u001b[0m\n\u001b[0m\u001b[0;32m     73\u001b[0m     \u001b[1;32mreturn\u001b[0m \u001b[0minner_f\u001b[0m\u001b[1;33m\u001b[0m\u001b[1;33m\u001b[0m\u001b[0m\n\u001b[0;32m     74\u001b[0m \u001b[1;33m\u001b[0m\u001b[0m\n",
      "\u001b[1;32m~\\anaconda3\\lib\\site-packages\\sklearn\\utils\\validation.py\u001b[0m in \u001b[0;36mcheck_is_fitted\u001b[1;34m(estimator, attributes, msg, all_or_any)\u001b[0m\n\u001b[0;32m   1017\u001b[0m \u001b[1;33m\u001b[0m\u001b[0m\n\u001b[0;32m   1018\u001b[0m     \u001b[1;32mif\u001b[0m \u001b[1;32mnot\u001b[0m \u001b[0mattrs\u001b[0m\u001b[1;33m:\u001b[0m\u001b[1;33m\u001b[0m\u001b[1;33m\u001b[0m\u001b[0m\n\u001b[1;32m-> 1019\u001b[1;33m         \u001b[1;32mraise\u001b[0m \u001b[0mNotFittedError\u001b[0m\u001b[1;33m(\u001b[0m\u001b[0mmsg\u001b[0m \u001b[1;33m%\u001b[0m \u001b[1;33m{\u001b[0m\u001b[1;34m'name'\u001b[0m\u001b[1;33m:\u001b[0m \u001b[0mtype\u001b[0m\u001b[1;33m(\u001b[0m\u001b[0mestimator\u001b[0m\u001b[1;33m)\u001b[0m\u001b[1;33m.\u001b[0m\u001b[0m__name__\u001b[0m\u001b[1;33m}\u001b[0m\u001b[1;33m)\u001b[0m\u001b[1;33m\u001b[0m\u001b[1;33m\u001b[0m\u001b[0m\n\u001b[0m\u001b[0;32m   1020\u001b[0m \u001b[1;33m\u001b[0m\u001b[0m\n\u001b[0;32m   1021\u001b[0m \u001b[1;33m\u001b[0m\u001b[0m\n",
      "\u001b[1;31mNotFittedError\u001b[0m: This LinearRegression instance is not fitted yet. Call 'fit' with appropriate arguments before using this estimator."
     ]
    }
   ],
   "source": [
    "lr_1 = LinearRegression ()\n",
    "predict_Entrena = lr_1.predict(Entrena)\n",
    "plt.scatter(Entrena['OverallQual'],Entrena['SalesPrice'])\n",
    "plt.plot(Entrena,predic_Entrena, color = 'red', linewidth = 2)\n",
    "plt.show()"
   ]
  },
  {
   "cell_type": "markdown",
   "metadata": {},
   "source": [
    "### Generación del modelo por gradientes"
   ]
  },
  {
   "cell_type": "markdown",
   "metadata": {},
   "source": [
    "#### Split de Sets Train y Test"
   ]
  },
  {
   "cell_type": "code",
   "execution_count": 70,
   "metadata": {},
   "outputs": [],
   "source": [
    "# Variables X y Y para Prueba de la función\n",
    "x = dataset['OverallQual'].values.reshape(-1, 1)\n",
    "y = dataset['SalesPrice'].values.reshape(-1, 1)"
   ]
  },
  {
   "cell_type": "code",
   "execution_count": 71,
   "metadata": {},
   "outputs": [],
   "source": [
    "split = 0.8\n",
    "nTrain = int(len(x)*split)\n",
    "Indices = list(range(0, len(x)))\n",
    "random.seed(123)\n",
    "random.shuffle(Indices)\n",
    "TrainSet_x = x[Indices[0 : nTrain]]\n",
    "TestSet_x = x[Indices[nTrain : len(Indices)]]\n",
    "TrainSet_y = y[Indices[0 : nTrain]]\n",
    "TestSet_y = y[Indices[nTrain : len(Indices)]]"
   ]
  },
  {
   "cell_type": "markdown",
   "metadata": {},
   "source": [
    "#### Creación de la función"
   ]
  },
  {
   "cell_type": "code",
   "execution_count": 72,
   "metadata": {},
   "outputs": [
    {
     "name": "stdout",
     "output_type": "stream",
     "text": [
      "------------------------\n",
      "iteracion 10000\n",
      "error 1155517839.1261802\n",
      "modelo b0: -97263.14357587117, b1: 45507.19329085135\n",
      "------------------------\n",
      "iteracion 20000\n",
      "error 1155498259.9263356\n",
      "modelo b0: -98153.09036901817, b1: 45645.66279870509\n",
      "------------------------\n",
      "iteracion 30000\n",
      "error 1155498258.4322772\n",
      "modelo b0: -98160.86447275669, b1: 45646.87239497193\n",
      "------------------------\n",
      "iteracion 40000\n",
      "error 1155498258.4321632\n",
      "modelo b0: -98160.93238320871, b1: 45646.88296136414\n",
      "------------------------\n",
      "iteracion 50000\n",
      "error 1155498258.4321632\n",
      "modelo b0: -98160.93297643853, b1: 45646.88305366656\n"
     ]
    }
   ],
   "source": [
    "# Variables\n",
    "X = TrainSet_x\n",
    "Y = TrainSet_y\n",
    "\n",
    "#parametros de la función\n",
    "epoch = 50000\n",
    "imprimir_error_cada = 10000\n",
    "learning_rate = 0.01\n",
    "\n",
    "#parametros internos\n",
    "b0 = 0\n",
    "b1 = 0\n",
    "betas = np.array([b1,b0]) \n",
    "n = len(X)\n",
    "\n",
    "#arrays iniciales\n",
    "errorArray = np.array([])\n",
    "betasArray = ([betas])\n",
    "\n",
    "vect1 = np.ones_like(X)\n",
    "matriz = np.hstack([X, vect1])\n",
    "\n",
    "for i in range(epoch):\n",
    "    yhat = np.dot(matriz, betas).reshape(-1,1)\n",
    "    \n",
    "    error = np.sum(np.power(Y - yhat, 2))/(2*n)\n",
    "    errorArray = np.append(errorArray, error)\n",
    "    \n",
    "    grads = np.sum((yhat-Y)*matriz,axis=0)*1/n\n",
    "    \n",
    "    betas = betas - learning_rate*grads\n",
    "    betasArray = np.vstack([betasArray, betas])\n",
    "    \n",
    "    if (i+1) % imprimir_error_cada == 0:\n",
    "        print('------------------------')\n",
    "        print('iteracion {}'.format(i+1))\n",
    "        print('error {}'.format(error))\n",
    "        print('modelo b0: {}, b1: {}'.format(betas[1], betas[0]))\n",
    "    else:\n",
    "        pass"
   ]
  },
  {
   "cell_type": "markdown",
   "metadata": {},
   "source": [
    "#### Función para graficar error"
   ]
  },
  {
   "cell_type": "code",
   "execution_count": 73,
   "metadata": {},
   "outputs": [
    {
     "data": {
      "text/plain": [
       "Text(0, 0.5, 'error')"
      ]
     },
     "execution_count": 73,
     "metadata": {},
     "output_type": "execute_result"
    },
    {
     "data": {
      "image/png": "[encoded data removed]",
      "text/plain": [
       "<Figure size 432x288 with 1 Axes>"
      ]
     },
     "metadata": {
      "needs_background": "light"
     },
     "output_type": "display_data"
    }
   ],
   "source": [
    "iteraciones = np.arange(1, len(errorArray)+1, 1)\n",
    "plt.plot(iteraciones, errorArray, color='#00cc00', marker='*')\n",
    "plt.xlabel('iteraciones')\n",
    "plt.ylabel('error')"
   ]
  },
  {
   "cell_type": "markdown",
   "metadata": {},
   "source": [
    "#### Función para graficar la evolución del modelo"
   ]
  },
  {
   "cell_type": "code",
   "execution_count": 74,
   "metadata": {},
   "outputs": [
    {
     "data": {
      "image/png": "[encoded data removed]",
      "text/plain": [
       "<Figure size 432x288 with 1 Axes>"
      ]
     },
     "metadata": {
      "needs_background": "light"
     },
     "output_type": "display_data"
    }
   ],
   "source": [
    "n_grafica = 1000\n",
    "predDict = {}\n",
    "\n",
    "for i in range(n_grafica, epoch+1, n_grafica):\n",
    "    y_pred_temp = np.dot(matriz, betasArray[i]).reshape(-1,1)\n",
    "    predDict['iteracion {}'.format(i)] = y_pred_temp\n",
    "\n",
    "for k, v in predDict.items():\n",
    "    plt.plot(X, v, '.-', label=k)\n",
    "plt.show()"
   ]
  },
  {
   "cell_type": "markdown",
   "metadata": {},
   "source": [
    "### Modelo con Scikit-Learn"
   ]
  },
  {
   "cell_type": "markdown",
   "metadata": {},
   "source": [
    "#### Split de Train y Test"
   ]
  },
  {
   "cell_type": "code",
   "execution_count": 76,
   "metadata": {},
   "outputs": [],
   "source": [
    "x = dataset['OverallQual'].values.reshape(-1, 1)\n",
    "y = dataset['SalesPrice'].values.reshape(-1, 1)\n",
    "dataTrain, dataTest, dataTrain_Sales, dataTest_Sales = train_test_split(x, y, test_size=0.3, shuffle=True, random_state=123)"
   ]
  },
  {
   "cell_type": "markdown",
   "metadata": {},
   "source": [
    "#### Entrenamiento del modelo"
   ]
  },
  {
   "cell_type": "code",
   "execution_count": 77,
   "metadata": {},
   "outputs": [
    {
     "name": "stdout",
     "output_type": "stream",
     "text": [
      "[[44976.49429688]]\n",
      "[-94032.19372475]\n"
     ]
    }
   ],
   "source": [
    "lm_1 = LinearRegression()\n",
    "lm_1.fit(dataTrain, dataTrain_Sales)\n",
    "print(lm_1.coef_)\n",
    "print(lm_1.intercept_)"
   ]
  },
  {
   "cell_type": "code",
   "execution_count": 78,
   "metadata": {},
   "outputs": [
    {
     "data": {
      "text/plain": [
       "array([[130850.27775967],\n",
       "       [ 40897.2891659 ],\n",
       "       [130850.27775967],\n",
       "       ...,\n",
       "       [220803.26635344],\n",
       "       [130850.27775967],\n",
       "       [175826.77205655]])"
      ]
     },
     "execution_count": 78,
     "metadata": {},
     "output_type": "execute_result"
    }
   ],
   "source": [
    "y_hat_skl = lm_1.predict(dataTrain)\n",
    "y_hat_skl"
   ]
  },
  {
   "cell_type": "markdown",
   "metadata": {},
   "source": [
    "### Función para predicción"
   ]
  },
  {
   "cell_type": "code",
   "execution_count": 80,
   "metadata": {},
   "outputs": [
    {
     "name": "stdout",
     "output_type": "stream",
     "text": [
      "[[[221367.24839923]\n",
      "  [175720.36534556]\n",
      "  [130073.48229189]\n",
      "  [221367.24839923]\n",
      "  [130073.48229189]\n",
      "  [267014.13145289]\n",
      "  [267014.13145289]\n",
      "  [175720.36534556]\n",
      "  [130073.48229189]\n",
      "  [221367.24839923]\n",
      "  [175720.36534556]\n",
      "  [175720.36534556]\n",
      "  [267014.13145289]\n",
      "  [175720.36534556]\n",
      "  [221367.24839923]\n",
      "  [221367.24839923]\n",
      "  [175720.36534556]\n",
      "  [175720.36534556]\n",
      "  [267014.13145289]\n",
      "  [130073.48229189]\n",
      "  [221367.24839923]\n",
      "  [130073.48229189]\n",
      "  [130073.48229189]\n",
      "  [ 84426.59923823]\n",
      "  [130073.48229189]\n",
      "  [130073.48229189]\n",
      "  [175720.36534556]\n",
      "  [221367.24839923]\n",
      "  [175720.36534556]\n",
      "  [221367.24839923]\n",
      "  [130073.48229189]\n",
      "  [175720.36534556]\n",
      "  [130073.48229189]\n",
      "  [267014.13145289]\n",
      "  [175720.36534556]\n",
      "  [221367.24839923]\n",
      "  [130073.48229189]\n",
      "  [175720.36534556]\n",
      "  [130073.48229189]\n",
      "  [175720.36534556]\n",
      "  [130073.48229189]\n",
      "  [130073.48229189]\n",
      "  [130073.48229189]\n",
      "  [ 38779.71618456]\n",
      "  [221367.24839923]\n",
      "  [130073.48229189]\n",
      "  [175720.36534556]\n",
      "  [130073.48229189]\n",
      "  [130073.48229189]\n",
      "  [ 84426.59923823]\n",
      "  [130073.48229189]\n",
      "  [175720.36534556]\n",
      "  [ 84426.59923823]\n",
      "  [130073.48229189]\n",
      "  [130073.48229189]\n",
      "  [130073.48229189]\n",
      "  [130073.48229189]\n",
      "  [130073.48229189]\n",
      "  [221367.24839923]\n",
      "  [267014.13145289]\n",
      "  [ 84426.59923823]\n",
      "  [130073.48229189]\n",
      "  [175720.36534556]\n",
      "  [130073.48229189]\n",
      "  [ 38779.71618456]\n",
      "  [130073.48229189]\n",
      "  [175720.36534556]\n",
      "  [ 84426.59923823]\n",
      "  [130073.48229189]\n",
      "  [175720.36534556]\n",
      "  [175720.36534556]\n",
      "  [130073.48229189]\n",
      "  [221367.24839923]\n",
      "  [130073.48229189]\n",
      "  [267014.13145289]\n",
      "  [221367.24839923]\n",
      "  [130073.48229189]\n",
      "  [267014.13145289]\n",
      "  [175720.36534556]\n",
      "  [130073.48229189]\n",
      "  [ 38779.71618456]\n",
      "  [ 38779.71618456]\n",
      "  [267014.13145289]\n",
      "  [130073.48229189]\n",
      "  [175720.36534556]\n",
      "  [130073.48229189]\n",
      "  [312661.01450656]\n",
      "  [130073.48229189]\n",
      "  [267014.13145289]\n",
      "  [130073.48229189]\n",
      "  [175720.36534556]\n",
      "  [267014.13145289]\n",
      "  [175720.36534556]\n",
      "  [130073.48229189]\n",
      "  [175720.36534556]\n",
      "  [267014.13145289]\n",
      "  [175720.36534556]\n",
      "  [175720.36534556]\n",
      "  [130073.48229189]\n",
      "  [267014.13145289]\n",
      "  [312661.01450656]\n",
      "  [267014.13145289]\n",
      "  [267014.13145289]\n",
      "  [221367.24839923]\n",
      "  [221367.24839923]\n",
      "  [130073.48229189]\n",
      "  [130073.48229189]\n",
      "  [175720.36534556]\n",
      "  [130073.48229189]\n",
      "  [175720.36534556]\n",
      "  [130073.48229189]\n",
      "  [130073.48229189]\n",
      "  [312661.01450656]\n",
      "  [130073.48229189]\n",
      "  [312661.01450656]\n",
      "  [175720.36534556]\n",
      "  [ 84426.59923823]\n",
      "  [ 84426.59923823]\n",
      "  [221367.24839923]\n",
      "  [175720.36534556]\n",
      "  [358307.89756023]\n",
      "  [175720.36534556]\n",
      "  [130073.48229189]\n",
      "  [175720.36534556]\n",
      "  [130073.48229189]\n",
      "  [175720.36534556]\n",
      "  [175720.36534556]\n",
      "  [175720.36534556]\n",
      "  [ -6867.16686911]\n",
      "  [175720.36534556]\n",
      "  [130073.48229189]\n",
      "  [130073.48229189]\n",
      "  [175720.36534556]\n",
      "  [175720.36534556]\n",
      "  [312661.01450656]\n",
      "  [221367.24839923]\n",
      "  [175720.36534556]\n",
      "  [175720.36534556]\n",
      "  [221367.24839923]\n",
      "  [221367.24839923]\n",
      "  [267014.13145289]\n",
      "  [130073.48229189]\n",
      "  [ 84426.59923823]\n",
      "  [ 84426.59923823]\n",
      "  [175720.36534556]\n",
      "  [221367.24839923]\n",
      "  [175720.36534556]\n",
      "  [221367.24839923]\n",
      "  [130073.48229189]\n",
      "  [ 84426.59923823]\n",
      "  [221367.24839923]\n",
      "  [130073.48229189]\n",
      "  [221367.24839923]\n",
      "  [221367.24839923]\n",
      "  [130073.48229189]\n",
      "  [175720.36534556]\n",
      "  [130073.48229189]\n",
      "  [267014.13145289]\n",
      "  [ 84426.59923823]\n",
      "  [130073.48229189]\n",
      "  [175720.36534556]\n",
      "  [221367.24839923]\n",
      "  [221367.24839923]\n",
      "  [ 38779.71618456]\n",
      "  [175720.36534556]\n",
      "  [175720.36534556]\n",
      "  [175720.36534556]\n",
      "  [221367.24839923]\n",
      "  [221367.24839923]\n",
      "  [358307.89756023]\n",
      "  [175720.36534556]\n",
      "  [130073.48229189]\n",
      "  [221367.24839923]\n",
      "  [221367.24839923]\n",
      "  [175720.36534556]\n",
      "  [130073.48229189]\n",
      "  [221367.24839923]\n",
      "  [221367.24839923]\n",
      "  [267014.13145289]\n",
      "  [ 84426.59923823]\n",
      "  [175720.36534556]\n",
      "  [175720.36534556]\n",
      "  [130073.48229189]\n",
      "  [267014.13145289]\n",
      "  [221367.24839923]\n",
      "  [175720.36534556]\n",
      "  [267014.13145289]\n",
      "  [130073.48229189]\n",
      "  [312661.01450656]\n",
      "  [130073.48229189]\n",
      "  [130073.48229189]\n",
      "  [130073.48229189]\n",
      "  [221367.24839923]\n",
      "  [175720.36534556]\n",
      "  [130073.48229189]\n",
      "  [267014.13145289]\n",
      "  [175720.36534556]\n",
      "  [175720.36534556]\n",
      "  [267014.13145289]\n",
      "  [130073.48229189]\n",
      "  [267014.13145289]\n",
      "  [175720.36534556]\n",
      "  [175720.36534556]\n",
      "  [ 84426.59923823]\n",
      "  [175720.36534556]\n",
      "  [130073.48229189]\n",
      "  [267014.13145289]\n",
      "  [130073.48229189]\n",
      "  [267014.13145289]\n",
      "  [ 84426.59923823]\n",
      "  [130073.48229189]\n",
      "  [ 84426.59923823]\n",
      "  [175720.36534556]\n",
      "  [221367.24839923]\n",
      "  [221367.24839923]\n",
      "  [221367.24839923]\n",
      "  [221367.24839923]\n",
      "  [267014.13145289]\n",
      "  [175720.36534556]\n",
      "  [267014.13145289]\n",
      "  [ 84426.59923823]\n",
      "  [ 38779.71618456]\n",
      "  [267014.13145289]\n",
      "  [267014.13145289]\n",
      "  [175720.36534556]\n",
      "  [175720.36534556]\n",
      "  [267014.13145289]\n",
      "  [175720.36534556]\n",
      "  [ 84426.59923823]\n",
      "  [130073.48229189]\n",
      "  [221367.24839923]\n",
      "  [130073.48229189]\n",
      "  [130073.48229189]\n",
      "  [175720.36534556]\n",
      "  [221367.24839923]\n",
      "  [ 84426.59923823]\n",
      "  [221367.24839923]\n",
      "  [267014.13145289]\n",
      "  [175720.36534556]\n",
      "  [130073.48229189]\n",
      "  [130073.48229189]\n",
      "  [130073.48229189]\n",
      "  [175720.36534556]\n",
      "  [267014.13145289]\n",
      "  [221367.24839923]\n",
      "  [175720.36534556]\n",
      "  [130073.48229189]\n",
      "  [175720.36534556]\n",
      "  [ 84426.59923823]\n",
      "  [175720.36534556]\n",
      "  [221367.24839923]\n",
      "  [ 84426.59923823]\n",
      "  [175720.36534556]\n",
      "  [221367.24839923]\n",
      "  [221367.24839923]\n",
      "  [130073.48229189]\n",
      "  [221367.24839923]\n",
      "  [130073.48229189]\n",
      "  [221367.24839923]\n",
      "  [267014.13145289]\n",
      "  [ 84426.59923823]\n",
      "  [221367.24839923]\n",
      "  [221367.24839923]\n",
      "  [130073.48229189]\n",
      "  [221367.24839923]\n",
      "  [221367.24839923]\n",
      "  [130073.48229189]\n",
      "  [130073.48229189]\n",
      "  [130073.48229189]\n",
      "  [130073.48229189]\n",
      "  [221367.24839923]\n",
      "  [130073.48229189]\n",
      "  [130073.48229189]\n",
      "  [267014.13145289]\n",
      "  [312661.01450656]\n",
      "  [221367.24839923]\n",
      "  [175720.36534556]\n",
      "  [221367.24839923]\n",
      "  [267014.13145289]\n",
      "  [ 84426.59923823]\n",
      "  [130073.48229189]\n",
      "  [175720.36534556]\n",
      "  [130073.48229189]\n",
      "  [ 84426.59923823]\n",
      "  [221367.24839923]\n",
      "  [ 84426.59923823]\n",
      "  [221367.24839923]\n",
      "  [221367.24839923]\n",
      "  [130073.48229189]\n",
      "  [312661.01450656]\n",
      "  [130073.48229189]\n",
      "  [130073.48229189]]\n",
      "\n",
      " [[220803.26635344]\n",
      "  [175826.77205655]\n",
      "  [130850.27775967]\n",
      "  [220803.26635344]\n",
      "  [130850.27775967]\n",
      "  [265779.76065032]\n",
      "  [265779.76065032]\n",
      "  [175826.77205655]\n",
      "  [130850.27775967]\n",
      "  [220803.26635344]\n",
      "  [175826.77205655]\n",
      "  [175826.77205655]\n",
      "  [265779.76065032]\n",
      "  [175826.77205655]\n",
      "  [220803.26635344]\n",
      "  [220803.26635344]\n",
      "  [175826.77205655]\n",
      "  [175826.77205655]\n",
      "  [265779.76065032]\n",
      "  [130850.27775967]\n",
      "  [220803.26635344]\n",
      "  [130850.27775967]\n",
      "  [130850.27775967]\n",
      "  [ 85873.78346278]\n",
      "  [130850.27775967]\n",
      "  [130850.27775967]\n",
      "  [175826.77205655]\n",
      "  [220803.26635344]\n",
      "  [175826.77205655]\n",
      "  [220803.26635344]\n",
      "  [130850.27775967]\n",
      "  [175826.77205655]\n",
      "  [130850.27775967]\n",
      "  [265779.76065032]\n",
      "  [175826.77205655]\n",
      "  [220803.26635344]\n",
      "  [130850.27775967]\n",
      "  [175826.77205655]\n",
      "  [130850.27775967]\n",
      "  [175826.77205655]\n",
      "  [130850.27775967]\n",
      "  [130850.27775967]\n",
      "  [130850.27775967]\n",
      "  [ 40897.2891659 ]\n",
      "  [220803.26635344]\n",
      "  [130850.27775967]\n",
      "  [175826.77205655]\n",
      "  [130850.27775967]\n",
      "  [130850.27775967]\n",
      "  [ 85873.78346278]\n",
      "  [130850.27775967]\n",
      "  [175826.77205655]\n",
      "  [ 85873.78346278]\n",
      "  [130850.27775967]\n",
      "  [130850.27775967]\n",
      "  [130850.27775967]\n",
      "  [130850.27775967]\n",
      "  [130850.27775967]\n",
      "  [220803.26635344]\n",
      "  [265779.76065032]\n",
      "  [ 85873.78346278]\n",
      "  [130850.27775967]\n",
      "  [175826.77205655]\n",
      "  [130850.27775967]\n",
      "  [ 40897.2891659 ]\n",
      "  [130850.27775967]\n",
      "  [175826.77205655]\n",
      "  [ 85873.78346278]\n",
      "  [130850.27775967]\n",
      "  [175826.77205655]\n",
      "  [175826.77205655]\n",
      "  [130850.27775967]\n",
      "  [220803.26635344]\n",
      "  [130850.27775967]\n",
      "  [265779.76065032]\n",
      "  [220803.26635344]\n",
      "  [130850.27775967]\n",
      "  [265779.76065032]\n",
      "  [175826.77205655]\n",
      "  [130850.27775967]\n",
      "  [ 40897.2891659 ]\n",
      "  [ 40897.2891659 ]\n",
      "  [265779.76065032]\n",
      "  [130850.27775967]\n",
      "  [175826.77205655]\n",
      "  [130850.27775967]\n",
      "  [310756.2549472 ]\n",
      "  [130850.27775967]\n",
      "  [265779.76065032]\n",
      "  [130850.27775967]\n",
      "  [175826.77205655]\n",
      "  [265779.76065032]\n",
      "  [175826.77205655]\n",
      "  [130850.27775967]\n",
      "  [175826.77205655]\n",
      "  [265779.76065032]\n",
      "  [175826.77205655]\n",
      "  [175826.77205655]\n",
      "  [130850.27775967]\n",
      "  [265779.76065032]\n",
      "  [310756.2549472 ]\n",
      "  [265779.76065032]\n",
      "  [265779.76065032]\n",
      "  [220803.26635344]\n",
      "  [220803.26635344]\n",
      "  [130850.27775967]\n",
      "  [130850.27775967]\n",
      "  [175826.77205655]\n",
      "  [130850.27775967]\n",
      "  [175826.77205655]\n",
      "  [130850.27775967]\n",
      "  [130850.27775967]\n",
      "  [310756.2549472 ]\n",
      "  [130850.27775967]\n",
      "  [310756.2549472 ]\n",
      "  [175826.77205655]\n",
      "  [ 85873.78346278]\n",
      "  [ 85873.78346278]\n",
      "  [220803.26635344]\n",
      "  [175826.77205655]\n",
      "  [355732.74924409]\n",
      "  [175826.77205655]\n",
      "  [130850.27775967]\n",
      "  [175826.77205655]\n",
      "  [130850.27775967]\n",
      "  [175826.77205655]\n",
      "  [175826.77205655]\n",
      "  [175826.77205655]\n",
      "  [ -4079.20513098]\n",
      "  [175826.77205655]\n",
      "  [130850.27775967]\n",
      "  [130850.27775967]\n",
      "  [175826.77205655]\n",
      "  [175826.77205655]\n",
      "  [310756.2549472 ]\n",
      "  [220803.26635344]\n",
      "  [175826.77205655]\n",
      "  [175826.77205655]\n",
      "  [220803.26635344]\n",
      "  [220803.26635344]\n",
      "  [265779.76065032]\n",
      "  [130850.27775967]\n",
      "  [ 85873.78346278]\n",
      "  [ 85873.78346278]\n",
      "  [175826.77205655]\n",
      "  [220803.26635344]\n",
      "  [175826.77205655]\n",
      "  [220803.26635344]\n",
      "  [130850.27775967]\n",
      "  [ 85873.78346278]\n",
      "  [220803.26635344]\n",
      "  [130850.27775967]\n",
      "  [220803.26635344]\n",
      "  [220803.26635344]\n",
      "  [130850.27775967]\n",
      "  [175826.77205655]\n",
      "  [130850.27775967]\n",
      "  [265779.76065032]\n",
      "  [ 85873.78346278]\n",
      "  [130850.27775967]\n",
      "  [175826.77205655]\n",
      "  [220803.26635344]\n",
      "  [220803.26635344]\n",
      "  [ 40897.2891659 ]\n",
      "  [175826.77205655]\n",
      "  [175826.77205655]\n",
      "  [175826.77205655]\n",
      "  [220803.26635344]\n",
      "  [220803.26635344]\n",
      "  [355732.74924409]\n",
      "  [175826.77205655]\n",
      "  [130850.27775967]\n",
      "  [220803.26635344]\n",
      "  [220803.26635344]\n",
      "  [175826.77205655]\n",
      "  [130850.27775967]\n",
      "  [220803.26635344]\n",
      "  [220803.26635344]\n",
      "  [265779.76065032]\n",
      "  [ 85873.78346278]\n",
      "  [175826.77205655]\n",
      "  [175826.77205655]\n",
      "  [130850.27775967]\n",
      "  [265779.76065032]\n",
      "  [220803.26635344]\n",
      "  [175826.77205655]\n",
      "  [265779.76065032]\n",
      "  [130850.27775967]\n",
      "  [310756.2549472 ]\n",
      "  [130850.27775967]\n",
      "  [130850.27775967]\n",
      "  [130850.27775967]\n",
      "  [220803.26635344]\n",
      "  [175826.77205655]\n",
      "  [130850.27775967]\n",
      "  [265779.76065032]\n",
      "  [175826.77205655]\n",
      "  [175826.77205655]\n",
      "  [265779.76065032]\n",
      "  [130850.27775967]\n",
      "  [265779.76065032]\n",
      "  [175826.77205655]\n",
      "  [175826.77205655]\n",
      "  [ 85873.78346278]\n",
      "  [175826.77205655]\n",
      "  [130850.27775967]\n",
      "  [265779.76065032]\n",
      "  [130850.27775967]\n",
      "  [265779.76065032]\n",
      "  [ 85873.78346278]\n",
      "  [130850.27775967]\n",
      "  [ 85873.78346278]\n",
      "  [175826.77205655]\n",
      "  [220803.26635344]\n",
      "  [220803.26635344]\n",
      "  [220803.26635344]\n",
      "  [220803.26635344]\n",
      "  [265779.76065032]\n",
      "  [175826.77205655]\n",
      "  [265779.76065032]\n",
      "  [ 85873.78346278]\n",
      "  [ 40897.2891659 ]\n",
      "  [265779.76065032]\n",
      "  [265779.76065032]\n",
      "  [175826.77205655]\n",
      "  [175826.77205655]\n",
      "  [265779.76065032]\n",
      "  [175826.77205655]\n",
      "  [ 85873.78346278]\n",
      "  [130850.27775967]\n",
      "  [220803.26635344]\n",
      "  [130850.27775967]\n",
      "  [130850.27775967]\n",
      "  [175826.77205655]\n",
      "  [220803.26635344]\n",
      "  [ 85873.78346278]\n",
      "  [220803.26635344]\n",
      "  [265779.76065032]\n",
      "  [175826.77205655]\n",
      "  [130850.27775967]\n",
      "  [130850.27775967]\n",
      "  [130850.27775967]\n",
      "  [175826.77205655]\n",
      "  [265779.76065032]\n",
      "  [220803.26635344]\n",
      "  [175826.77205655]\n",
      "  [130850.27775967]\n",
      "  [175826.77205655]\n",
      "  [ 85873.78346278]\n",
      "  [175826.77205655]\n",
      "  [220803.26635344]\n",
      "  [ 85873.78346278]\n",
      "  [175826.77205655]\n",
      "  [220803.26635344]\n",
      "  [220803.26635344]\n",
      "  [130850.27775967]\n",
      "  [220803.26635344]\n",
      "  [130850.27775967]\n",
      "  [220803.26635344]\n",
      "  [265779.76065032]\n",
      "  [ 85873.78346278]\n",
      "  [220803.26635344]\n",
      "  [220803.26635344]\n",
      "  [130850.27775967]\n",
      "  [220803.26635344]\n",
      "  [220803.26635344]\n",
      "  [130850.27775967]\n",
      "  [130850.27775967]\n",
      "  [130850.27775967]\n",
      "  [130850.27775967]\n",
      "  [220803.26635344]\n",
      "  [130850.27775967]\n",
      "  [130850.27775967]\n",
      "  [265779.76065032]\n",
      "  [310756.2549472 ]\n",
      "  [220803.26635344]\n",
      "  [175826.77205655]\n",
      "  [220803.26635344]\n",
      "  [265779.76065032]\n",
      "  [ 85873.78346278]\n",
      "  [130850.27775967]\n",
      "  [175826.77205655]\n",
      "  [130850.27775967]\n",
      "  [ 85873.78346278]\n",
      "  [220803.26635344]\n",
      "  [ 85873.78346278]\n",
      "  [220803.26635344]\n",
      "  [220803.26635344]\n",
      "  [130850.27775967]\n",
      "  [310756.2549472 ]\n",
      "  [130850.27775967]\n",
      "  [130850.27775967]]\n",
      "\n",
      " [[221085.25737633]\n",
      "  [175773.56870106]\n",
      "  [130461.88002578]\n",
      "  [221085.25737633]\n",
      "  [130461.88002578]\n",
      "  [266396.94605161]\n",
      "  [266396.94605161]\n",
      "  [175773.56870106]\n",
      "  [130461.88002578]\n",
      "  [221085.25737633]\n",
      "  [175773.56870106]\n",
      "  [175773.56870106]\n",
      "  [266396.94605161]\n",
      "  [175773.56870106]\n",
      "  [221085.25737633]\n",
      "  [221085.25737633]\n",
      "  [175773.56870106]\n",
      "  [175773.56870106]\n",
      "  [266396.94605161]\n",
      "  [130461.88002578]\n",
      "  [221085.25737633]\n",
      "  [130461.88002578]\n",
      "  [130461.88002578]\n",
      "  [ 85150.19135051]\n",
      "  [130461.88002578]\n",
      "  [130461.88002578]\n",
      "  [175773.56870106]\n",
      "  [221085.25737633]\n",
      "  [175773.56870106]\n",
      "  [221085.25737633]\n",
      "  [130461.88002578]\n",
      "  [175773.56870106]\n",
      "  [130461.88002578]\n",
      "  [266396.94605161]\n",
      "  [175773.56870106]\n",
      "  [221085.25737633]\n",
      "  [130461.88002578]\n",
      "  [175773.56870106]\n",
      "  [130461.88002578]\n",
      "  [175773.56870106]\n",
      "  [130461.88002578]\n",
      "  [130461.88002578]\n",
      "  [130461.88002578]\n",
      "  [ 39838.50267523]\n",
      "  [221085.25737633]\n",
      "  [130461.88002578]\n",
      "  [175773.56870106]\n",
      "  [130461.88002578]\n",
      "  [130461.88002578]\n",
      "  [ 85150.19135051]\n",
      "  [130461.88002578]\n",
      "  [175773.56870106]\n",
      "  [ 85150.19135051]\n",
      "  [130461.88002578]\n",
      "  [130461.88002578]\n",
      "  [130461.88002578]\n",
      "  [130461.88002578]\n",
      "  [130461.88002578]\n",
      "  [221085.25737633]\n",
      "  [266396.94605161]\n",
      "  [ 85150.19135051]\n",
      "  [130461.88002578]\n",
      "  [175773.56870106]\n",
      "  [130461.88002578]\n",
      "  [ 39838.50267523]\n",
      "  [130461.88002578]\n",
      "  [175773.56870106]\n",
      "  [ 85150.19135051]\n",
      "  [130461.88002578]\n",
      "  [175773.56870106]\n",
      "  [175773.56870106]\n",
      "  [130461.88002578]\n",
      "  [221085.25737633]\n",
      "  [130461.88002578]\n",
      "  [266396.94605161]\n",
      "  [221085.25737633]\n",
      "  [130461.88002578]\n",
      "  [266396.94605161]\n",
      "  [175773.56870106]\n",
      "  [130461.88002578]\n",
      "  [ 39838.50267523]\n",
      "  [ 39838.50267523]\n",
      "  [266396.94605161]\n",
      "  [130461.88002578]\n",
      "  [175773.56870106]\n",
      "  [130461.88002578]\n",
      "  [311708.63472688]\n",
      "  [130461.88002578]\n",
      "  [266396.94605161]\n",
      "  [130461.88002578]\n",
      "  [175773.56870106]\n",
      "  [266396.94605161]\n",
      "  [175773.56870106]\n",
      "  [130461.88002578]\n",
      "  [175773.56870106]\n",
      "  [266396.94605161]\n",
      "  [175773.56870106]\n",
      "  [175773.56870106]\n",
      "  [130461.88002578]\n",
      "  [266396.94605161]\n",
      "  [311708.63472688]\n",
      "  [266396.94605161]\n",
      "  [266396.94605161]\n",
      "  [221085.25737633]\n",
      "  [221085.25737633]\n",
      "  [130461.88002578]\n",
      "  [130461.88002578]\n",
      "  [175773.56870106]\n",
      "  [130461.88002578]\n",
      "  [175773.56870106]\n",
      "  [130461.88002578]\n",
      "  [130461.88002578]\n",
      "  [311708.63472688]\n",
      "  [130461.88002578]\n",
      "  [311708.63472688]\n",
      "  [175773.56870106]\n",
      "  [ 85150.19135051]\n",
      "  [ 85150.19135051]\n",
      "  [221085.25737633]\n",
      "  [175773.56870106]\n",
      "  [357020.32340216]\n",
      "  [175773.56870106]\n",
      "  [130461.88002578]\n",
      "  [175773.56870106]\n",
      "  [130461.88002578]\n",
      "  [175773.56870106]\n",
      "  [175773.56870106]\n",
      "  [175773.56870106]\n",
      "  [ -5473.18600004]\n",
      "  [175773.56870106]\n",
      "  [130461.88002578]\n",
      "  [130461.88002578]\n",
      "  [175773.56870106]\n",
      "  [175773.56870106]\n",
      "  [311708.63472688]\n",
      "  [221085.25737633]\n",
      "  [175773.56870106]\n",
      "  [175773.56870106]\n",
      "  [221085.25737633]\n",
      "  [221085.25737633]\n",
      "  [266396.94605161]\n",
      "  [130461.88002578]\n",
      "  [ 85150.19135051]\n",
      "  [ 85150.19135051]\n",
      "  [175773.56870106]\n",
      "  [221085.25737633]\n",
      "  [175773.56870106]\n",
      "  [221085.25737633]\n",
      "  [130461.88002578]\n",
      "  [ 85150.19135051]\n",
      "  [221085.25737633]\n",
      "  [130461.88002578]\n",
      "  [221085.25737633]\n",
      "  [221085.25737633]\n",
      "  [130461.88002578]\n",
      "  [175773.56870106]\n",
      "  [130461.88002578]\n",
      "  [266396.94605161]\n",
      "  [ 85150.19135051]\n",
      "  [130461.88002578]\n",
      "  [175773.56870106]\n",
      "  [221085.25737633]\n",
      "  [221085.25737633]\n",
      "  [ 39838.50267523]\n",
      "  [175773.56870106]\n",
      "  [175773.56870106]\n",
      "  [175773.56870106]\n",
      "  [221085.25737633]\n",
      "  [221085.25737633]\n",
      "  [357020.32340216]\n",
      "  [175773.56870106]\n",
      "  [130461.88002578]\n",
      "  [221085.25737633]\n",
      "  [221085.25737633]\n",
      "  [175773.56870106]\n",
      "  [130461.88002578]\n",
      "  [221085.25737633]\n",
      "  [221085.25737633]\n",
      "  [266396.94605161]\n",
      "  [ 85150.19135051]\n",
      "  [175773.56870106]\n",
      "  [175773.56870106]\n",
      "  [130461.88002578]\n",
      "  [266396.94605161]\n",
      "  [221085.25737633]\n",
      "  [175773.56870106]\n",
      "  [266396.94605161]\n",
      "  [130461.88002578]\n",
      "  [311708.63472688]\n",
      "  [130461.88002578]\n",
      "  [130461.88002578]\n",
      "  [130461.88002578]\n",
      "  [221085.25737633]\n",
      "  [175773.56870106]\n",
      "  [130461.88002578]\n",
      "  [266396.94605161]\n",
      "  [175773.56870106]\n",
      "  [175773.56870106]\n",
      "  [266396.94605161]\n",
      "  [130461.88002578]\n",
      "  [266396.94605161]\n",
      "  [175773.56870106]\n",
      "  [175773.56870106]\n",
      "  [ 85150.19135051]\n",
      "  [175773.56870106]\n",
      "  [130461.88002578]\n",
      "  [266396.94605161]\n",
      "  [130461.88002578]\n",
      "  [266396.94605161]\n",
      "  [ 85150.19135051]\n",
      "  [130461.88002578]\n",
      "  [ 85150.19135051]\n",
      "  [175773.56870106]\n",
      "  [221085.25737633]\n",
      "  [221085.25737633]\n",
      "  [221085.25737633]\n",
      "  [221085.25737633]\n",
      "  [266396.94605161]\n",
      "  [175773.56870106]\n",
      "  [266396.94605161]\n",
      "  [ 85150.19135051]\n",
      "  [ 39838.50267523]\n",
      "  [266396.94605161]\n",
      "  [266396.94605161]\n",
      "  [175773.56870106]\n",
      "  [175773.56870106]\n",
      "  [266396.94605161]\n",
      "  [175773.56870106]\n",
      "  [ 85150.19135051]\n",
      "  [130461.88002578]\n",
      "  [221085.25737633]\n",
      "  [130461.88002578]\n",
      "  [130461.88002578]\n",
      "  [175773.56870106]\n",
      "  [221085.25737633]\n",
      "  [ 85150.19135051]\n",
      "  [221085.25737633]\n",
      "  [266396.94605161]\n",
      "  [175773.56870106]\n",
      "  [130461.88002578]\n",
      "  [130461.88002578]\n",
      "  [130461.88002578]\n",
      "  [175773.56870106]\n",
      "  [266396.94605161]\n",
      "  [221085.25737633]\n",
      "  [175773.56870106]\n",
      "  [130461.88002578]\n",
      "  [175773.56870106]\n",
      "  [ 85150.19135051]\n",
      "  [175773.56870106]\n",
      "  [221085.25737633]\n",
      "  [ 85150.19135051]\n",
      "  [175773.56870106]\n",
      "  [221085.25737633]\n",
      "  [221085.25737633]\n",
      "  [130461.88002578]\n",
      "  [221085.25737633]\n",
      "  [130461.88002578]\n",
      "  [221085.25737633]\n",
      "  [266396.94605161]\n",
      "  [ 85150.19135051]\n",
      "  [221085.25737633]\n",
      "  [221085.25737633]\n",
      "  [130461.88002578]\n",
      "  [221085.25737633]\n",
      "  [221085.25737633]\n",
      "  [130461.88002578]\n",
      "  [130461.88002578]\n",
      "  [130461.88002578]\n",
      "  [130461.88002578]\n",
      "  [221085.25737633]\n",
      "  [130461.88002578]\n",
      "  [130461.88002578]\n",
      "  [266396.94605161]\n",
      "  [311708.63472688]\n",
      "  [221085.25737633]\n",
      "  [175773.56870106]\n",
      "  [221085.25737633]\n",
      "  [266396.94605161]\n",
      "  [ 85150.19135051]\n",
      "  [130461.88002578]\n",
      "  [175773.56870106]\n",
      "  [130461.88002578]\n",
      "  [ 85150.19135051]\n",
      "  [221085.25737633]\n",
      "  [ 85150.19135051]\n",
      "  [221085.25737633]\n",
      "  [221085.25737633]\n",
      "  [130461.88002578]\n",
      "  [311708.63472688]\n",
      "  [130461.88002578]\n",
      "  [130461.88002578]]]\n"
     ]
    }
   ],
   "source": [
    "# Variables\n",
    "X = TestSet_x\n",
    "Y = TestSet_y\n",
    "\n",
    "# Creación del vector para la función de gradientes\n",
    "vect1 = np.ones_like(X)\n",
    "matriz = np.hstack([X, vect1])\n",
    "\n",
    "# Predicciones en cada modelo\n",
    "ypred_grad = np.dot(matriz, betas).reshape(-1,1)\n",
    "ypred_skl = lm_1.predict(X)\n",
    "ypred_prom = (ypred_grad + ypred_skl)/2\n",
    "\n",
    "# Arreglo con resultados\n",
    "result = np.array([ypred_grad, ypred_skl, ypred_prom])\n",
    "print(result)"
   ]
  },
  {
   "cell_type": "markdown",
   "metadata": {},
   "source": [
    "#### Error de los modelos"
   ]
  },
  {
   "cell_type": "code",
   "execution_count": 81,
   "metadata": {},
   "outputs": [
    {
     "name": "stdout",
     "output_type": "stream",
     "text": [
      "[[3.20417345e+08]\n",
      " [3.20153908e+08]\n",
      " [3.20258657e+08]]\n"
     ]
    }
   ],
   "source": [
    "error_pred = np.sum(np.power(Y - result, 2), axis = 1)/(2*n)\n",
    "print(error_pred)"
   ]
  },
  {
   "cell_type": "code",
   "execution_count": null,
   "metadata": {},
   "outputs": [],
   "source": []
  }
 ],
 "metadata": {
  "kernelspec": {
   "display_name": "Python 3",
   "language": "python",
   "name": "python3"
  },
  "language_info": {
   "codemirror_mode": {
    "name": "ipython",
    "version": 3
   },
   "file_extension": ".py",
   "mimetype": "text/x-python",
   "name": "python",
   "nbconvert_exporter": "python",
   "pygments_lexer": "ipython3",
   "version": "3.8.5"
  }
 },
 "nbformat": 4,
 "nbformat_minor": 4
}
